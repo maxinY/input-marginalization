{
  "nbformat": 4,
  "nbformat_minor": 0,
  "metadata": {
    "colab": {
      "name": "input_marge_v2.ipynb",
      "provenance": [],
      "collapsed_sections": [],
      "authorship_tag": "ABX9TyPVU83fFwJL3dxLgva3WJJR",
      "include_colab_link": true
    },
    "kernelspec": {
      "name": "python3",
      "display_name": "Python 3"
    },
    "accelerator": "GPU"
  },
  "cells": [
    {
      "cell_type": "markdown",
      "metadata": {
        "id": "view-in-github",
        "colab_type": "text"
      },
      "source": [
        "<a href=\"https://colab.research.google.com/github/ronakdm/input-marginalization/blob/main/input_marge_v2.ipynb\" target=\"_parent\"><img src=\"https://colab.research.google.com/assets/colab-badge.svg\" alt=\"Open In Colab\"/></a>"
      ]
    },
    {
      "cell_type": "code",
      "metadata": {
        "id": "AxXBIE5Cw7dT"
      },
      "source": [
        "%%capture\n",
        "!pip install pytorch_pretrained_bert\n",
        "!pip install transformers\n",
        "!git clone https://github.com/ronakdm/input-marginalization.git"
      ],
      "execution_count": 1,
      "outputs": []
    },
    {
      "cell_type": "code",
      "metadata": {
        "colab": {
          "base_uri": "https://localhost:8080/"
        },
        "id": "GczF6JdTxhZo",
        "outputId": "b3ae42c8-9fec-4eb2-b9d9-f9aa69f8db7c"
      },
      "source": [
        "%%bash\n",
        "cd input-marginalization\n",
        "git pull\n",
        "cd .."
      ],
      "execution_count": 2,
      "outputs": [
        {
          "output_type": "stream",
          "text": [
            "Already up to date.\n"
          ],
          "name": "stdout"
        }
      ]
    },
    {
      "cell_type": "code",
      "metadata": {
        "id": "2NYs_qKDxnST"
      },
      "source": [
        "import sys\n",
        "sys.path.append(\"input-marginalization\")\n",
        "import torch\n",
        "from pytorch_pretrained_bert import BertTokenizer, BertModel, BertForMaskedLM\n",
        "from transformers import BertTokenizer, BertModel\n",
        "from utils import generate_dataloaders\n",
        "from models import LSTM\n",
        "from torch.nn import LogSoftmax\n",
        "import math\n",
        "import torch.nn.functional as F"
      ],
      "execution_count": 3,
      "outputs": []
    },
    {
      "cell_type": "code",
      "metadata": {
        "colab": {
          "base_uri": "https://localhost:8080/"
        },
        "id": "i2T8Fwh5xqqr",
        "outputId": "6e4c05e3-827f-4d50-e362-3ea29af4f5f6"
      },
      "source": [
        "from google.colab import drive\n",
        "drive.mount('/content/gdrive',force_remount=True)\n",
        "save_dir = \"/content/gdrive/My Drive/input-marginalization\""
      ],
      "execution_count": 4,
      "outputs": [
        {
          "output_type": "stream",
          "text": [
            "Mounted at /content/gdrive\n"
          ],
          "name": "stdout"
        }
      ]
    },
    {
      "cell_type": "code",
      "metadata": {
        "id": "r3XZW2qJx1qy"
      },
      "source": [
        "SAMPLE_SIZE = 3\n",
        "SIGMA = 1e-4\n",
        "log_softmax = LogSoftmax(dim=0)"
      ],
      "execution_count": 5,
      "outputs": []
    },
    {
      "cell_type": "code",
      "metadata": {
        "id": "rAwYhg_Dy5SC"
      },
      "source": [
        "%%capture\n",
        "tokenizer = BertTokenizer.from_pretrained('bert-base-uncased')\n",
        "bert_model = BertForMaskedLM.from_pretrained('bert-base-uncased')"
      ],
      "execution_count": 6,
      "outputs": []
    },
    {
      "cell_type": "code",
      "metadata": {
        "id": "w8bCqegYx4yk"
      },
      "source": [
        "cnn = torch.load(f\"{save_dir}/cnn_sst2.pt\")"
      ],
      "execution_count": 7,
      "outputs": []
    },
    {
      "cell_type": "code",
      "metadata": {
        "id": "Dtx2h5-7y0Sk"
      },
      "source": [
        "def loaddata ():\n",
        "  train_dataloader, validation_dataloader, test_dataloader = generate_dataloaders(1)\n",
        "  return test_dataloader"
      ],
      "execution_count": 8,
      "outputs": []
    },
    {
      "cell_type": "code",
      "metadata": {
        "id": "eM8YEA2aylyP"
      },
      "source": [
        "def compute_probability(model, input_ids, attention_masks, label):\n",
        "    logits = model(\n",
        "        input_ids, token_type_ids=None, attention_mask=attention_masks, labels=label.repeat((len(input_ids))),\n",
        "    ).logits\n",
        "    \n",
        "    return math.exp(logits[0][label])\n",
        "    "
      ],
      "execution_count": 9,
      "outputs": []
    },
    {
      "cell_type": "code",
      "metadata": {
        "id": "g3vC5A-8iJey"
      },
      "source": [
        "def compute_probability2(model, input_ids, attention_masks, label):\n",
        "  \n",
        "    logits = model(\n",
        "        input_ids.to(torch.int64), token_type_ids=None, attention_mask=attention_masks, labels=label.repeat((len(input_ids))),\n",
        "    ).logits\n",
        "\n",
        "    return torch.exp(torch.reshape(logits[:, label], (-1,)))\n",
        "    "
      ],
      "execution_count": 10,
      "outputs": []
    },
    {
      "cell_type": "code",
      "metadata": {
        "id": "itGpt67FymBv"
      },
      "source": [
        "def calculate_woe(model, input_ids, attention_masks, label, sigma):\n",
        "  device = \"cuda\" if next(model.parameters()).is_cuda else \"cpu\"\n",
        "  bert_model.to(device)\n",
        "  \n",
        "  #predictions is the probability distribution of each word in the vocabulary for each word in input sentence\n",
        "  predictions = bert_model(input_ids)\n",
        "  predictions = torch.squeeze(predictions)\n",
        "  predictions = F.softmax(predictions, dim=1)\n",
        "\n",
        "  #woe is the weight of evidence\n",
        "  woe = []\n",
        "  model.eval()\n",
        "\n",
        "  with torch.no_grad():\n",
        "    for j in range (len(predictions)):\n",
        "      word_scores = predictions[j]\n",
        "      input_batch = input_ids.clone().to(device)\n",
        "      \n",
        "      #word_scores_batch calculates the value of the MLM of Bert for each masked word\n",
        "      #we put 0 for the first input which is unmasked\n",
        "      word_scores_batch = [0]\n",
        "\n",
        "      for k in range(len(word_scores)):\n",
        "        if word_scores[k] > sigma:\n",
        "           input_batch = torch.cat((input_batch, input_ids), 0)\n",
        "           input_batch[len(input_batch)-1][j] = k\n",
        "           word_scores_batch.append(word_scores[k].item())\n",
        "      \n",
        "      #probability_input calculates the p(label|sentence) of the target model given each masked input sentence\n",
        "      probability_input = compute_probability2(model, input_batch, attention_masks, label)\n",
        "      \n",
        "      m = torch.dot(torch.tensor(word_scores_batch).to(device), probability_input)\n",
        "      logodds_input = math.log(probability_input[0] / (1-probability_input[0]))\n",
        "      logodds_m = math.log(m / (1-m))\n",
        "      woe.append(logodds_input-logodds_m)\n",
        "  return woe\n"
      ],
      "execution_count": 27,
      "outputs": []
    },
    {
      "cell_type": "markdown",
      "metadata": {
        "id": "68yzg0lNIGj4"
      },
      "source": [
        ""
      ]
    },
    {
      "cell_type": "code",
      "metadata": {
        "id": "5qcDFTbBymIk"
      },
      "source": [
        "def input_marg(model): \n",
        "  test_data = loaddata()\n",
        "  device = \"cuda\" if next(model.parameters()).is_cuda else \"cpu\"\n",
        "  iter_data = iter(test_data)\n",
        "\n",
        "  for i in range(SAMPLE_SIZE):\n",
        "    nextsample = next(iter_data)\n",
        "    inputsequences = nextsample[0].to(device)\n",
        "    inputmask =  nextsample[1].to(device)\n",
        "    labels = nextsample[2].to(device)\n",
        "    print(\"\")\n",
        "    print(tokenizer.convert_ids_to_tokens(inputsequences[0][1:11]))\n",
        "    print(calculate_woe(model, torch.unsqueeze(inputsequences[0][1:11],0),torch.unsqueeze(inputmask[0][:11],0),  torch.unsqueeze(labels[0],0), SIGMA))\n",
        "      "
      ],
      "execution_count": 23,
      "outputs": []
    },
    {
      "cell_type": "code",
      "metadata": {
        "id": "fXG0ScGmyviL",
        "colab": {
          "base_uri": "https://localhost:8080/"
        },
        "outputId": "6e83545c-89df-465b-a28b-ac8aeb874b8e"
      },
      "source": [
        "input_marg(cnn)"
      ],
      "execution_count": 28,
      "outputs": [
        {
          "output_type": "stream",
          "text": [
            "6,919 training samples.\n",
            "  876 validation samples.\n",
            "1,822 test samples.\n",
            "\n",
            "['rates', 'an', '`', 'e', \"'\", 'for', 'effort', '-', '-', 'and']\n",
            "[-0.023614781172927146, -0.5736915400651671, 0.01798837133650444, -0.35940286665283944, 0.0036026506841958517, 0.018793006829055603, 0.10160360009127833, 0.04824759663439149, 0.01074686440903283, 0.0003444468218778418]\n",
            "\n",
            "['an', 'ideal', '##istic', 'love', 'story', 'that', 'brings', 'out', 'the', 'late']\n",
            "[3.9840200238023047, 2.14271560182448, 2.260443213282069, 2.3856000592162365, 0.9963197812029252, 1.4108959269479553, 2.8481678784848943, 0.47058731449476277, 0.09098499923152481, 4.090750703705227]\n",
            "\n",
            "['a', 'bold', 'and', 'sub', '##vers', '##ive', 'film', 'that', 'cuts', 'across']\n",
            "[3.338206176788492, 3.094990815615888, 0.7888140804037334, 1.6613605814508112, 3.2641718414506165, 2.4920595978837055, 2.664964501682608, 1.7363559568443465, 0.6809756063880457, 1.6675010758344166]\n"
          ],
          "name": "stdout"
        }
      ]
    }
  ]
}