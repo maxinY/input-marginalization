{
  "nbformat": 4,
  "nbformat_minor": 0,
  "metadata": {
    "colab": {
      "name": "cnn-sst2.ipynb",
      "provenance": []
    },
    "kernelspec": {
      "name": "python3",
      "display_name": "Python 3"
    },
    "accelerator": "GPU",
    "widgets": {
      "application/vnd.jupyter.widget-state+json": {
        "9c4c78f0b3e44ffa8ad7d8e4b7301917": {
          "model_module": "@jupyter-widgets/controls",
          "model_name": "HBoxModel",
          "state": {
            "_view_name": "HBoxView",
            "_dom_classes": [],
            "_model_name": "HBoxModel",
            "_view_module": "@jupyter-widgets/controls",
            "_model_module_version": "1.5.0",
            "_view_count": null,
            "_view_module_version": "1.5.0",
            "box_style": "",
            "layout": "IPY_MODEL_752092359aa44afc9c885c22b06bf3ea",
            "_model_module": "@jupyter-widgets/controls",
            "children": [
              "IPY_MODEL_2cd307b264484e07a3c6724b6da686fd",
              "IPY_MODEL_a849aa0b9eb44edba4debb2d0d0d2c60"
            ]
          }
        },
        "752092359aa44afc9c885c22b06bf3ea": {
          "model_module": "@jupyter-widgets/base",
          "model_name": "LayoutModel",
          "state": {
            "_view_name": "LayoutView",
            "grid_template_rows": null,
            "right": null,
            "justify_content": null,
            "_view_module": "@jupyter-widgets/base",
            "overflow": null,
            "_model_module_version": "1.2.0",
            "_view_count": null,
            "flex_flow": null,
            "width": null,
            "min_width": null,
            "border": null,
            "align_items": null,
            "bottom": null,
            "_model_module": "@jupyter-widgets/base",
            "top": null,
            "grid_column": null,
            "overflow_y": null,
            "overflow_x": null,
            "grid_auto_flow": null,
            "grid_area": null,
            "grid_template_columns": null,
            "flex": null,
            "_model_name": "LayoutModel",
            "justify_items": null,
            "grid_row": null,
            "max_height": null,
            "align_content": null,
            "visibility": null,
            "align_self": null,
            "height": null,
            "min_height": null,
            "padding": null,
            "grid_auto_rows": null,
            "grid_gap": null,
            "max_width": null,
            "order": null,
            "_view_module_version": "1.2.0",
            "grid_template_areas": null,
            "object_position": null,
            "object_fit": null,
            "grid_auto_columns": null,
            "margin": null,
            "display": null,
            "left": null
          }
        },
        "2cd307b264484e07a3c6724b6da686fd": {
          "model_module": "@jupyter-widgets/controls",
          "model_name": "FloatProgressModel",
          "state": {
            "_view_name": "ProgressView",
            "style": "IPY_MODEL_ff7b89ace90a471eb316011ceacb5b08",
            "_dom_classes": [],
            "description": "Downloading: 100%",
            "_model_name": "FloatProgressModel",
            "bar_style": "success",
            "max": 231508,
            "_view_module": "@jupyter-widgets/controls",
            "_model_module_version": "1.5.0",
            "value": 231508,
            "_view_count": null,
            "_view_module_version": "1.5.0",
            "orientation": "horizontal",
            "min": 0,
            "description_tooltip": null,
            "_model_module": "@jupyter-widgets/controls",
            "layout": "IPY_MODEL_73ae421f4dc14fa6bf021a14bde647a1"
          }
        },
        "a849aa0b9eb44edba4debb2d0d0d2c60": {
          "model_module": "@jupyter-widgets/controls",
          "model_name": "HTMLModel",
          "state": {
            "_view_name": "HTMLView",
            "style": "IPY_MODEL_3bac28342d8d4c2d800153c1168e8b03",
            "_dom_classes": [],
            "description": "",
            "_model_name": "HTMLModel",
            "placeholder": "​",
            "_view_module": "@jupyter-widgets/controls",
            "_model_module_version": "1.5.0",
            "value": " 232k/232k [00:00&lt;00:00, 2.40MB/s]",
            "_view_count": null,
            "_view_module_version": "1.5.0",
            "description_tooltip": null,
            "_model_module": "@jupyter-widgets/controls",
            "layout": "IPY_MODEL_78c6adcf3b514b8590942e9c1f5af497"
          }
        },
        "ff7b89ace90a471eb316011ceacb5b08": {
          "model_module": "@jupyter-widgets/controls",
          "model_name": "ProgressStyleModel",
          "state": {
            "_view_name": "StyleView",
            "_model_name": "ProgressStyleModel",
            "description_width": "initial",
            "_view_module": "@jupyter-widgets/base",
            "_model_module_version": "1.5.0",
            "_view_count": null,
            "_view_module_version": "1.2.0",
            "bar_color": null,
            "_model_module": "@jupyter-widgets/controls"
          }
        },
        "73ae421f4dc14fa6bf021a14bde647a1": {
          "model_module": "@jupyter-widgets/base",
          "model_name": "LayoutModel",
          "state": {
            "_view_name": "LayoutView",
            "grid_template_rows": null,
            "right": null,
            "justify_content": null,
            "_view_module": "@jupyter-widgets/base",
            "overflow": null,
            "_model_module_version": "1.2.0",
            "_view_count": null,
            "flex_flow": null,
            "width": null,
            "min_width": null,
            "border": null,
            "align_items": null,
            "bottom": null,
            "_model_module": "@jupyter-widgets/base",
            "top": null,
            "grid_column": null,
            "overflow_y": null,
            "overflow_x": null,
            "grid_auto_flow": null,
            "grid_area": null,
            "grid_template_columns": null,
            "flex": null,
            "_model_name": "LayoutModel",
            "justify_items": null,
            "grid_row": null,
            "max_height": null,
            "align_content": null,
            "visibility": null,
            "align_self": null,
            "height": null,
            "min_height": null,
            "padding": null,
            "grid_auto_rows": null,
            "grid_gap": null,
            "max_width": null,
            "order": null,
            "_view_module_version": "1.2.0",
            "grid_template_areas": null,
            "object_position": null,
            "object_fit": null,
            "grid_auto_columns": null,
            "margin": null,
            "display": null,
            "left": null
          }
        },
        "3bac28342d8d4c2d800153c1168e8b03": {
          "model_module": "@jupyter-widgets/controls",
          "model_name": "DescriptionStyleModel",
          "state": {
            "_view_name": "StyleView",
            "_model_name": "DescriptionStyleModel",
            "description_width": "",
            "_view_module": "@jupyter-widgets/base",
            "_model_module_version": "1.5.0",
            "_view_count": null,
            "_view_module_version": "1.2.0",
            "_model_module": "@jupyter-widgets/controls"
          }
        },
        "78c6adcf3b514b8590942e9c1f5af497": {
          "model_module": "@jupyter-widgets/base",
          "model_name": "LayoutModel",
          "state": {
            "_view_name": "LayoutView",
            "grid_template_rows": null,
            "right": null,
            "justify_content": null,
            "_view_module": "@jupyter-widgets/base",
            "overflow": null,
            "_model_module_version": "1.2.0",
            "_view_count": null,
            "flex_flow": null,
            "width": null,
            "min_width": null,
            "border": null,
            "align_items": null,
            "bottom": null,
            "_model_module": "@jupyter-widgets/base",
            "top": null,
            "grid_column": null,
            "overflow_y": null,
            "overflow_x": null,
            "grid_auto_flow": null,
            "grid_area": null,
            "grid_template_columns": null,
            "flex": null,
            "_model_name": "LayoutModel",
            "justify_items": null,
            "grid_row": null,
            "max_height": null,
            "align_content": null,
            "visibility": null,
            "align_self": null,
            "height": null,
            "min_height": null,
            "padding": null,
            "grid_auto_rows": null,
            "grid_gap": null,
            "max_width": null,
            "order": null,
            "_view_module_version": "1.2.0",
            "grid_template_areas": null,
            "object_position": null,
            "object_fit": null,
            "grid_auto_columns": null,
            "margin": null,
            "display": null,
            "left": null
          }
        }
      }
    }
  },
  "cells": [
    {
      "cell_type": "code",
      "metadata": {
        "id": "xruAVyTzJPsj"
      },
      "source": [
        "import numpy as np\r\n",
        "import pandas as pd\r\n",
        "\r\n",
        "from sklearn.feature_extraction.text import CountVectorizer\r\n",
        "from sklearn.metrics import confusion_matrix, accuracy_score\r\n",
        "from sklearn.model_selection import train_test_split\r\n",
        "import re\r\n",
        "\r\n",
        "import matplotlib.pyplot as plt\r\n",
        "%matplotlib inline"
      ],
      "execution_count": 1,
      "outputs": []
    },
    {
      "cell_type": "code",
      "metadata": {
        "colab": {
          "base_uri": "https://localhost:8080/"
        },
        "id": "n5UIHIwjbXUU",
        "outputId": "4da3622b-61cd-4e05-b47c-f0a4a8860750"
      },
      "source": [
        "!git clone https://github.com/ronakdm/input-marginalization.git"
      ],
      "execution_count": 2,
      "outputs": [
        {
          "output_type": "stream",
          "text": [
            "Cloning into 'input-marginalization'...\n",
            "remote: Enumerating objects: 60, done.\u001b[K\n",
            "remote: Counting objects: 100% (60/60), done.\u001b[K\n",
            "remote: Compressing objects: 100% (35/35), done.\u001b[K\n",
            "remote: Total 60 (delta 29), reused 51 (delta 23), pack-reused 0\u001b[K\n",
            "Unpacking objects: 100% (60/60), done.\n"
          ],
          "name": "stdout"
        }
      ]
    },
    {
      "cell_type": "code",
      "metadata": {
        "colab": {
          "base_uri": "https://localhost:8080/"
        },
        "id": "9_AXX1JWiVpH",
        "outputId": "ef94bb9f-a576-4709-fb1d-444fb7d1be43"
      },
      "source": [
        "%%bash\r\n",
        "cd input-marginalization\r\n",
        "git pull\r\n",
        "cd .."
      ],
      "execution_count": 3,
      "outputs": [
        {
          "output_type": "stream",
          "text": [
            "Already up to date.\n"
          ],
          "name": "stdout"
        }
      ]
    },
    {
      "cell_type": "code",
      "metadata": {
        "colab": {
          "base_uri": "https://localhost:8080/"
        },
        "id": "mdt1j3SUihdj",
        "outputId": "b883d15b-58ae-4331-ddcf-130af77c204c"
      },
      "source": [
        "from google.colab import drive\r\n",
        "drive.mount('/content/gdrive')\r\n",
        "save_dir = \"/content/gdrive/My Drive/input-marginalization\""
      ],
      "execution_count": 4,
      "outputs": [
        {
          "output_type": "stream",
          "text": [
            "Mounted at /content/gdrive\n"
          ],
          "name": "stdout"
        }
      ]
    },
    {
      "cell_type": "code",
      "metadata": {
        "id": "0ff8o_N7KjOa"
      },
      "source": [
        "import pickle\r\n",
        "import numpy as np\r\n",
        "import time\r\n",
        "import datetime\r\n",
        "import random\r\n",
        "import torch\r\n",
        "import torch.nn as nn\r\n",
        "\r\n",
        "from torch.utils.data import DataLoader, RandomSampler, SequentialSampler, TensorDataset"
      ],
      "execution_count": 5,
      "outputs": []
    },
    {
      "cell_type": "code",
      "metadata": {
        "colab": {
          "base_uri": "https://localhost:8080/"
        },
        "id": "0qxZMqGNKni8",
        "outputId": "457ede5c-2fe5-4e7f-e2fb-2126c95b51de"
      },
      "source": [
        "try:\r\n",
        "    from transformers import BertForSequenceClassification, AdamW, BertConfig, get_linear_schedule_with_warmup\r\n",
        "except ModuleNotFoundError:\r\n",
        "    !pip install transformers\r\n",
        "    from transformers import BertForSequenceClassification, AdamW, BertConfig, get_linear_schedule_with_warmup\r\n",
        "    "
      ],
      "execution_count": 6,
      "outputs": [
        {
          "output_type": "stream",
          "text": [
            "Collecting transformers\n",
            "\u001b[?25l  Downloading https://files.pythonhosted.org/packages/98/87/ef312eef26f5cecd8b17ae9654cdd8d1fae1eb6dbd87257d6d73c128a4d0/transformers-4.3.2-py3-none-any.whl (1.8MB)\n",
            "\u001b[K     |████████████████████████████████| 1.8MB 5.5MB/s \n",
            "\u001b[?25hRequirement already satisfied: requests in /usr/local/lib/python3.6/dist-packages (from transformers) (2.23.0)\n",
            "Collecting sacremoses\n",
            "\u001b[?25l  Downloading https://files.pythonhosted.org/packages/7d/34/09d19aff26edcc8eb2a01bed8e98f13a1537005d31e95233fd48216eed10/sacremoses-0.0.43.tar.gz (883kB)\n",
            "\u001b[K     |████████████████████████████████| 890kB 26.0MB/s \n",
            "\u001b[?25hCollecting tokenizers<0.11,>=0.10.1\n",
            "\u001b[?25l  Downloading https://files.pythonhosted.org/packages/fd/5b/44baae602e0a30bcc53fbdbc60bd940c15e143d252d658dfdefce736ece5/tokenizers-0.10.1-cp36-cp36m-manylinux2010_x86_64.whl (3.2MB)\n",
            "\u001b[K     |████████████████████████████████| 3.2MB 32.2MB/s \n",
            "\u001b[?25hRequirement already satisfied: dataclasses; python_version < \"3.7\" in /usr/local/lib/python3.6/dist-packages (from transformers) (0.8)\n",
            "Requirement already satisfied: numpy>=1.17 in /usr/local/lib/python3.6/dist-packages (from transformers) (1.19.5)\n",
            "Requirement already satisfied: filelock in /usr/local/lib/python3.6/dist-packages (from transformers) (3.0.12)\n",
            "Requirement already satisfied: importlib-metadata; python_version < \"3.8\" in /usr/local/lib/python3.6/dist-packages (from transformers) (3.4.0)\n",
            "Requirement already satisfied: tqdm>=4.27 in /usr/local/lib/python3.6/dist-packages (from transformers) (4.41.1)\n",
            "Requirement already satisfied: regex!=2019.12.17 in /usr/local/lib/python3.6/dist-packages (from transformers) (2019.12.20)\n",
            "Requirement already satisfied: packaging in /usr/local/lib/python3.6/dist-packages (from transformers) (20.9)\n",
            "Requirement already satisfied: chardet<4,>=3.0.2 in /usr/local/lib/python3.6/dist-packages (from requests->transformers) (3.0.4)\n",
            "Requirement already satisfied: urllib3!=1.25.0,!=1.25.1,<1.26,>=1.21.1 in /usr/local/lib/python3.6/dist-packages (from requests->transformers) (1.24.3)\n",
            "Requirement already satisfied: certifi>=2017.4.17 in /usr/local/lib/python3.6/dist-packages (from requests->transformers) (2020.12.5)\n",
            "Requirement already satisfied: idna<3,>=2.5 in /usr/local/lib/python3.6/dist-packages (from requests->transformers) (2.10)\n",
            "Requirement already satisfied: six in /usr/local/lib/python3.6/dist-packages (from sacremoses->transformers) (1.15.0)\n",
            "Requirement already satisfied: click in /usr/local/lib/python3.6/dist-packages (from sacremoses->transformers) (7.1.2)\n",
            "Requirement already satisfied: joblib in /usr/local/lib/python3.6/dist-packages (from sacremoses->transformers) (1.0.0)\n",
            "Requirement already satisfied: typing-extensions>=3.6.4; python_version < \"3.8\" in /usr/local/lib/python3.6/dist-packages (from importlib-metadata; python_version < \"3.8\"->transformers) (3.7.4.3)\n",
            "Requirement already satisfied: zipp>=0.5 in /usr/local/lib/python3.6/dist-packages (from importlib-metadata; python_version < \"3.8\"->transformers) (3.4.0)\n",
            "Requirement already satisfied: pyparsing>=2.0.2 in /usr/local/lib/python3.6/dist-packages (from packaging->transformers) (2.4.7)\n",
            "Building wheels for collected packages: sacremoses\n",
            "  Building wheel for sacremoses (setup.py) ... \u001b[?25l\u001b[?25hdone\n",
            "  Created wheel for sacremoses: filename=sacremoses-0.0.43-cp36-none-any.whl size=893261 sha256=55721c399d6c62f604d6ccb1a56666b5791e09a9ec5ac60a0a4efa572ed96780\n",
            "  Stored in directory: /root/.cache/pip/wheels/29/3c/fd/7ce5c3f0666dab31a50123635e6fb5e19ceb42ce38d4e58f45\n",
            "Successfully built sacremoses\n",
            "Installing collected packages: sacremoses, tokenizers, transformers\n",
            "Successfully installed sacremoses-0.0.43 tokenizers-0.10.1 transformers-4.3.2\n"
          ],
          "name": "stdout"
        }
      ]
    },
    {
      "cell_type": "code",
      "metadata": {
        "colab": {
          "base_uri": "https://localhost:8080/"
        },
        "id": "tnpwoarJjKwR",
        "outputId": "a0987dbb-e7fa-4cf4-ef4c-0dbda414c646"
      },
      "source": [
        "LEARNING_RATE = 1e-4\r\n",
        "ADAMW_TOLERANCE = 1e-8\r\n",
        "BATCH_SIZE = 10\r\n",
        "\r\n",
        "\r\n",
        "if torch.cuda.is_available():\r\n",
        "    device = \"cuda\"\r\n",
        "else:\r\n",
        "    device = \"cpu\"\r\n",
        "\r\n",
        "print(\"Running on '%s'.\" % device)"
      ],
      "execution_count": 7,
      "outputs": [
        {
          "output_type": "stream",
          "text": [
            "Running on 'cuda'.\n"
          ],
          "name": "stdout"
        }
      ]
    },
    {
      "cell_type": "code",
      "metadata": {
        "colab": {
          "base_uri": "https://localhost:8080/"
        },
        "id": "WZElNobPHeTq",
        "outputId": "e2eff917-547f-4ce6-c85a-725bbe237446"
      },
      "source": [
        "def load_dataset(dataset_name):\r\n",
        "    # `dataset_name` can be \"train\", \"valid\", or \"test\".\r\n",
        "    input_ids = pickle.load(open(\"input-marginalization/preprocessed_data/SST-2/input_ids_%s\" % dataset_name, \"rb\"))\r\n",
        "    attention_masks = pickle.load(open(\"input-marginalization/preprocessed_data/SST-2/attention_masks_%s\" % dataset_name, \"rb\"))\r\n",
        "    labels = pickle.load(open(\"input-marginalization/preprocessed_data/SST-2/labels_%s\" % dataset_name, \"rb\"))\r\n",
        "\r\n",
        "    return TensorDataset(input_ids, attention_masks, labels)\r\n",
        "\r\n",
        "\r\n",
        "train_dataset = load_dataset(\"train\")\r\n",
        "val_dataset = load_dataset(\"valid\")\r\n",
        "\r\n",
        "train_dataloader = DataLoader(train_dataset, sampler = RandomSampler(train_dataset), batch_size = BATCH_SIZE)\r\n",
        "validation_dataloader = DataLoader(val_dataset, sampler = SequentialSampler(val_dataset), batch_size = BATCH_SIZE)\r\n",
        "\r\n",
        "print('{:>5,} training samples.'.format(len(train_dataset)))\r\n",
        "print('{:>5,} validation samples.'.format(len(val_dataset)))"
      ],
      "execution_count": 8,
      "outputs": [
        {
          "output_type": "stream",
          "text": [
            "6,919 training samples.\n",
            "  876 validation samples.\n"
          ],
          "name": "stdout"
        }
      ]
    },
    {
      "cell_type": "code",
      "metadata": {
        "colab": {
          "base_uri": "https://localhost:8080/",
          "height": 67,
          "referenced_widgets": [
            "9c4c78f0b3e44ffa8ad7d8e4b7301917",
            "752092359aa44afc9c885c22b06bf3ea",
            "2cd307b264484e07a3c6724b6da686fd",
            "a849aa0b9eb44edba4debb2d0d0d2c60",
            "ff7b89ace90a471eb316011ceacb5b08",
            "73ae421f4dc14fa6bf021a14bde647a1",
            "3bac28342d8d4c2d800153c1168e8b03",
            "78c6adcf3b514b8590942e9c1f5af497"
          ]
        },
        "id": "A-EmK4RULUF-",
        "outputId": "d69b66d1-9d95-4e65-9e2e-32cec03f4026"
      },
      "source": [
        "import pickle\r\n",
        "import torch\r\n",
        "from transformers import BertTokenizer\r\n",
        "\r\n",
        "tokenizer = BertTokenizer.from_pretrained(\"bert-base-uncased\")\r\n"
      ],
      "execution_count": 9,
      "outputs": [
        {
          "output_type": "display_data",
          "data": {
            "application/vnd.jupyter.widget-view+json": {
              "model_id": "9c4c78f0b3e44ffa8ad7d8e4b7301917",
              "version_minor": 0,
              "version_major": 2
            },
            "text/plain": [
              "HBox(children=(FloatProgress(value=0.0, description='Downloading', max=231508.0, style=ProgressStyle(descripti…"
            ]
          },
          "metadata": {
            "tags": []
          }
        },
        {
          "output_type": "stream",
          "text": [
            "\n"
          ],
          "name": "stdout"
        }
      ]
    },
    {
      "cell_type": "code",
      "metadata": {
        "id": "K_6N0AHqPXlP"
      },
      "source": [
        "def format_time(elapsed):\r\n",
        "    '''\r\n",
        "    Takes a time in seconds and returns a string hh:mm:ss\r\n",
        "    '''\r\n",
        "    # Round to the nearest second.\r\n",
        "    elapsed_rounded = int(round((elapsed)))\r\n",
        "    \r\n",
        "    # Format as hh:mm:ss\r\n",
        "    return str(datetime.timedelta(seconds=elapsed_rounded))"
      ],
      "execution_count": 10,
      "outputs": []
    },
    {
      "cell_type": "code",
      "metadata": {
        "id": "Bl3g1XPsH-Pr"
      },
      "source": [
        "#specified parameters in  the paper\r\n",
        "embedding_dim = 100\r\n",
        "num_filters = 100\r\n",
        "\r\n",
        "seed_val = 42\r\n",
        "\r\n",
        "random.seed(seed_val)\r\n",
        "np.random.seed(seed_val)\r\n",
        "torch.manual_seed(seed_val)\r\n",
        "torch.cuda.manual_seed_all(seed_val)\r\n",
        "total_t0 = time.time()\r\n",
        "save_filename = \"cnn_sst2\"\r\n",
        "training_stats = []\r\n",
        "test_stats =[]\r\n",
        "class CNN(nn.Module):\r\n",
        "    def __init__(self, in_channels, out_channels, batch_size):\r\n",
        "        super(CNN, self).__init__()\r\n",
        "        self.embeddings = nn.Embedding(len(tokenizer.vocab),embedding_dim)\r\n",
        "        self.convs = nn.ModuleList([nn.Conv1d(1, 100, (n, embedding_dim)) for n in (3,4,5)])        \r\n",
        "        self.dropout_train, self.dropout_test = nn.Dropout(p = 0.5), nn.Dropout(p = 0)\r\n",
        "        self.linear = nn.Linear(in_features=in_channels, out_features=out_channels, bias = True)\r\n",
        "    \r\n",
        "    def forward(self, x, train = True):\r\n",
        "        \r\n",
        "        embedded = self.embeddings(x)\r\n",
        "        embedded = embedded.unsqueeze(1)\r\n",
        "        \r\n",
        "        convolved = [nn.functional.relu(conv(embedded)).squeeze(3) for conv in self.convs]\r\n",
        "        \r\n",
        "        pooled = [nn.functional.max_pool1d(convd, convd.size(2)).squeeze(2) for convd in convolved]\r\n",
        "        \r\n",
        "        concatted = torch.cat(pooled, 1)\r\n",
        "        \r\n",
        "        dropped = self.dropout_train(concatted) if train else self.dropout_test(concatted)\r\n",
        "        \r\n",
        "        output = self.linear(dropped)\r\n",
        "        \r\n",
        "        logits = nn.functional.log_softmax(output, dim = 1)\r\n",
        "        return logits\r\n",
        "        \r\n",
        "    def predict(self, x):\r\n",
        "        logits = self.forward(x, train = False)\r\n",
        "        return logits.max(1)[1]\r\n",
        "    \r\n",
        "    def train(self, train_dataloader,validation_dataloader, num_epochs=15, learning_rate = LEARNING_RATE):\r\n",
        "        criterion = nn.NLLLoss()\r\n",
        "        optimizer = torch.optim.Adam(model.parameters(), lr = LEARNING_RATE)\r\n",
        "        loss_vec = []\r\n",
        "       \r\n",
        "        for epoch in (range(num_epochs)):\r\n",
        "            t0 = time.time()\r\n",
        "            epoch_loss = 0\r\n",
        "            for batch in train_dataloader:\r\n",
        "                x = batch[0].to(device)\r\n",
        "                y = batch[2].to(device)               \r\n",
        "                optimizer.zero_grad()            \r\n",
        "                y_p = self.forward(x)               \r\n",
        "                \r\n",
        "                loss = criterion(y_p, y)\r\n",
        "                \r\n",
        "                loss.backward()\r\n",
        "                \r\n",
        "                optimizer.step()\r\n",
        "                epoch_loss += loss.data\r\n",
        "                \r\n",
        "            self.model = model     \r\n",
        "            loss_vec.append(epoch_loss / len(train_dataloader))\r\n",
        "\r\n",
        "                        \r\n",
        "            training_time = format_time(time.time() - t0)\r\n",
        "\r\n",
        "            acc,validation_time = self.validate(validation_dataloader)\r\n",
        "            print('Epoch {} loss: {} | acc: {}'.format(epoch+1, loss_vec[epoch-1], acc))\r\n",
        "            print(\"  Training epcoh {} took: {:}\".format(epoch+1, training_time))\r\n",
        "            self.model = model\r\n",
        "\r\n",
        "            training_stats.append(\r\n",
        "                {\r\n",
        "                'epoch': epoch + 1,\r\n",
        "                'Training Loss': loss_vec[epoch-1],               \r\n",
        "                'Valid. Accur.': acc,\r\n",
        "                'Training Time': training_time,\r\n",
        "                'Validation Time': validation_time\r\n",
        "                }\r\n",
        "            )\r\n",
        "\r\n",
        "\r\n",
        "        plt.plot(range(len(loss_vec)), loss_vec)\r\n",
        "        plt.xlabel('Epoch')\r\n",
        "        plt.ylabel('Loss')\r\n",
        "        plt.show()\r\n",
        "        print('\\nModel trained.\\n')\r\n",
        "        self.loss_vec = loss_vec\r\n",
        "        self.model = model\r\n",
        "        pickle.dump(training_stats, open(f\"{save_dir}/training_stats_{save_filename}.p\", \"wb\"))\r\n",
        "        \r\n",
        "    def test(self, test_dataloader):\r\n",
        "        t0 = time.time()\r\n",
        "        \r\n",
        "        upload, trues = [], []\r\n",
        "        # Update: for kaggle the bucket iterator needs to have batch_size 10\r\n",
        "        for batch in test_dataloader:\r\n",
        "            \r\n",
        "            x, y = batch[0].to(device), batch[2].to(device)\r\n",
        "            probs = self.predict(x)[:len(y)]\r\n",
        "            upload += list(probs.data)\r\n",
        "            trues += list(y.data)\r\n",
        "\r\n",
        "        correct = sum([1 if i == j else 0 for i, j in zip(upload, trues)])\r\n",
        "        accuracy = correct / len(trues)\r\n",
        "        print('Testset Accuracy:', accuracy)\r\n",
        "        test_time = format_time(time.time()-t0)\r\n",
        "        test_stats = {\r\n",
        "        \r\n",
        "        'Test Accur.': accuracy,\r\n",
        "        'Test Time': test_time,\r\n",
        "        }\r\n",
        "        pickle.dump(test_stats, open(f\"{save_dir}/test_stats_{save_filename}.p\", \"wb\"))\r\n",
        "                \r\n",
        "    def validate(self, val_iter):\r\n",
        "        y_p, y_t, correct = [], [], 0\r\n",
        "        t0 = time.time()\r\n",
        "        for batch in val_iter:\r\n",
        "            x, y = batch[0].to(device), batch[2].to(device)\r\n",
        "            probs = self.predict(x)[:len(y)]\r\n",
        "           \r\n",
        "            y_p += list(probs.data) \r\n",
        "            y_t += list(y.data)\r\n",
        "            \r\n",
        "        correct = sum([1 if i == j else 0 for i, j in zip(y_p, y_t)])\r\n",
        "        accuracy = correct / len(y_p)\r\n",
        "        validation_time = format_time(time.time() - t0)\r\n",
        "        return accuracy,validation_time"
      ],
      "execution_count": 11,
      "outputs": []
    },
    {
      "cell_type": "code",
      "metadata": {
        "colab": {
          "base_uri": "https://localhost:8080/",
          "height": 895
        },
        "id": "Asc3xW2cLD5G",
        "outputId": "2b09a273-cd8a-45dd-bf70-f7b45fef426c"
      },
      "source": [
        "model = CNN(in_channels = 300, out_channels = 2, batch_size = BATCH_SIZE).to(device)\r\n",
        "model.train(train_dataloader = train_dataloader, validation_dataloader = validation_dataloader, num_epochs=15, learning_rate = LEARNING_RATE)\r\n",
        "test_dataset = load_dataset(\"test\")\r\n",
        "test_dataloader = DataLoader(test_dataset, sampler = RandomSampler(test_dataset), batch_size = BATCH_SIZE)\r\n",
        "print('{:>5,} test samples.'.format(len(test_dataset)))\r\n",
        "\r\n",
        "\r\n",
        "model.test(test_dataloader)"
      ],
      "execution_count": 12,
      "outputs": [
        {
          "output_type": "stream",
          "text": [
            "Epoch 1 loss: 0.7644498944282532 | acc: 0.6141552511415526\n",
            "  Training epcoh 1 took: 0:00:02\n",
            "Epoch 2 loss: 0.7644498944282532 | acc: 0.6381278538812786\n",
            "  Training epcoh 2 took: 0:00:02\n",
            "Epoch 3 loss: 0.6939343214035034 | acc: 0.6735159817351598\n",
            "  Training epcoh 3 took: 0:00:02\n",
            "Epoch 4 loss: 0.6451854705810547 | acc: 0.678082191780822\n",
            "  Training epcoh 4 took: 0:00:02\n",
            "Epoch 5 loss: 0.6071372628211975 | acc: 0.6997716894977168\n",
            "  Training epcoh 5 took: 0:00:02\n",
            "Epoch 6 loss: 0.5762999057769775 | acc: 0.6929223744292238\n",
            "  Training epcoh 6 took: 0:00:02\n",
            "Epoch 7 loss: 0.5446448922157288 | acc: 0.7134703196347032\n",
            "  Training epcoh 7 took: 0:00:02\n",
            "Epoch 8 loss: 0.5095269680023193 | acc: 0.7157534246575342\n",
            "  Training epcoh 8 took: 0:00:02\n",
            "Epoch 9 loss: 0.47598177194595337 | acc: 0.7271689497716894\n",
            "  Training epcoh 9 took: 0:00:02\n",
            "Epoch 10 loss: 0.44583994150161743 | acc: 0.728310502283105\n",
            "  Training epcoh 10 took: 0:00:02\n",
            "Epoch 11 loss: 0.4136006832122803 | acc: 0.728310502283105\n",
            "  Training epcoh 11 took: 0:00:02\n",
            "Epoch 12 loss: 0.38586434721946716 | acc: 0.730593607305936\n",
            "  Training epcoh 12 took: 0:00:02\n",
            "Epoch 13 loss: 0.36754727363586426 | acc: 0.7328767123287672\n",
            "  Training epcoh 13 took: 0:00:02\n",
            "Epoch 14 loss: 0.3431762158870697 | acc: 0.7374429223744292\n",
            "  Training epcoh 14 took: 0:00:02\n",
            "Epoch 15 loss: 0.3214794397354126 | acc: 0.7385844748858448\n",
            "  Training epcoh 15 took: 0:00:02\n"
          ],
          "name": "stdout"
        },
        {
          "output_type": "display_data",
          "data": {
            "image/png": "[encoded data removed]",
            "text/plain": [
              "<Figure size 432x288 with 1 Axes>"
            ]
          },
          "metadata": {
            "tags": [],
            "needs_background": "light"
          }
        },
        {
          "output_type": "stream",
          "text": [
            "\n",
            "Model trained.\n",
            "\n",
            "1,822 test samples.\n",
            "Testset Accuracy: 0.7442371020856202\n"
          ],
          "name": "stdout"
        }
      ]
    },
    {
      "cell_type": "code",
      "metadata": {
        "id": "0n9h0N4uNlcJ"
      },
      "source": [
        "\r\n",
        "torch.save(model, f\"{save_dir}/{save_filename}.pt\")"
      ],
      "execution_count": 13,
      "outputs": []
    }
  ]
}