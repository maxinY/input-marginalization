{
  "nbformat": 4,
  "nbformat_minor": 0,
  "metadata": {
    "colab": {
      "name": "figure3.ipynb",
      "provenance": []
    },
    "kernelspec": {
      "name": "python3",
      "display_name": "Python 3"
    },
    "accelerator": "GPU"
  },
  "cells": [
    {
      "cell_type": "code",
      "metadata": {
        "colab": {
          "base_uri": "https://localhost:8080/"
        },
        "id": "OeVaGT2c53TJ",
        "outputId": "2d50e51e-2e97-47cc-c3b5-a0ab67924641"
      },
      "source": [
        "\r\n",
        "%%bash\r\n",
        "git clone https://github.com/ronakdm/input-marginalization.git\r\n",
        "cd input-marginalization\r\n",
        "git pull\r\n",
        "cd .."
      ],
      "execution_count": 1,
      "outputs": [
        {
          "output_type": "stream",
          "text": [
            "Already up to date.\n"
          ],
          "name": "stdout"
        },
        {
          "output_type": "stream",
          "text": [
            "Cloning into 'input-marginalization'...\n"
          ],
          "name": "stderr"
        }
      ]
    },
    {
      "cell_type": "code",
      "metadata": {
        "colab": {
          "base_uri": "https://localhost:8080/"
        },
        "id": "v3G521GQGRse",
        "outputId": "1c64f139-4ec8-4849-fe46-ee55f4dfca70"
      },
      "source": [
        "try:\r\n",
        "    from transformers import BertForSequenceClassification, AdamW, BertConfig, get_linear_schedule_with_warmup\r\n",
        "except ModuleNotFoundError:\r\n",
        "    !pip install transformers\r\n",
        "    from transformers import BertForSequenceClassification, AdamW, BertConfig, get_linear_schedule_with_warmup, BertForMaskedLM"
      ],
      "execution_count": 2,
      "outputs": [
        {
          "output_type": "stream",
          "text": [
            "Collecting transformers\n",
            "\u001b[?25l  Downloading https://files.pythonhosted.org/packages/2c/d8/5144b0712f7f82229a8da5983a8fbb8d30cec5fbd5f8d12ffe1854dcea67/transformers-4.4.1-py3-none-any.whl (2.1MB)\n",
            "\u001b[K     |████████████████████████████████| 2.1MB 13.9MB/s \n",
            "\u001b[?25hCollecting tokenizers<0.11,>=0.10.1\n",
            "\u001b[?25l  Downloading https://files.pythonhosted.org/packages/71/23/2ddc317b2121117bf34dd00f5b0de194158f2a44ee2bf5e47c7166878a97/tokenizers-0.10.1-cp37-cp37m-manylinux2010_x86_64.whl (3.2MB)\n",
            "\u001b[K     |████████████████████████████████| 3.2MB 48.1MB/s \n",
            "\u001b[?25hRequirement already satisfied: importlib-metadata; python_version < \"3.8\" in /usr/local/lib/python3.7/dist-packages (from transformers) (3.7.2)\n",
            "Requirement already satisfied: regex!=2019.12.17 in /usr/local/lib/python3.7/dist-packages (from transformers) (2019.12.20)\n",
            "Requirement already satisfied: requests in /usr/local/lib/python3.7/dist-packages (from transformers) (2.23.0)\n",
            "Collecting sacremoses\n",
            "\u001b[?25l  Downloading https://files.pythonhosted.org/packages/7d/34/09d19aff26edcc8eb2a01bed8e98f13a1537005d31e95233fd48216eed10/sacremoses-0.0.43.tar.gz (883kB)\n",
            "\u001b[K     |████████████████████████████████| 890kB 44.1MB/s \n",
            "\u001b[?25hRequirement already satisfied: packaging in /usr/local/lib/python3.7/dist-packages (from transformers) (20.9)\n",
            "Requirement already satisfied: filelock in /usr/local/lib/python3.7/dist-packages (from transformers) (3.0.12)\n",
            "Requirement already satisfied: numpy>=1.17 in /usr/local/lib/python3.7/dist-packages (from transformers) (1.19.5)\n",
            "Requirement already satisfied: tqdm>=4.27 in /usr/local/lib/python3.7/dist-packages (from transformers) (4.41.1)\n",
            "Requirement already satisfied: zipp>=0.5 in /usr/local/lib/python3.7/dist-packages (from importlib-metadata; python_version < \"3.8\"->transformers) (3.4.1)\n",
            "Requirement already satisfied: typing-extensions>=3.6.4; python_version < \"3.8\" in /usr/local/lib/python3.7/dist-packages (from importlib-metadata; python_version < \"3.8\"->transformers) (3.7.4.3)\n",
            "Requirement already satisfied: idna<3,>=2.5 in /usr/local/lib/python3.7/dist-packages (from requests->transformers) (2.10)\n",
            "Requirement already satisfied: urllib3!=1.25.0,!=1.25.1,<1.26,>=1.21.1 in /usr/local/lib/python3.7/dist-packages (from requests->transformers) (1.24.3)\n",
            "Requirement already satisfied: certifi>=2017.4.17 in /usr/local/lib/python3.7/dist-packages (from requests->transformers) (2020.12.5)\n",
            "Requirement already satisfied: chardet<4,>=3.0.2 in /usr/local/lib/python3.7/dist-packages (from requests->transformers) (3.0.4)\n",
            "Requirement already satisfied: six in /usr/local/lib/python3.7/dist-packages (from sacremoses->transformers) (1.15.0)\n",
            "Requirement already satisfied: click in /usr/local/lib/python3.7/dist-packages (from sacremoses->transformers) (7.1.2)\n",
            "Requirement already satisfied: joblib in /usr/local/lib/python3.7/dist-packages (from sacremoses->transformers) (1.0.1)\n",
            "Requirement already satisfied: pyparsing>=2.0.2 in /usr/local/lib/python3.7/dist-packages (from packaging->transformers) (2.4.7)\n",
            "Building wheels for collected packages: sacremoses\n",
            "  Building wheel for sacremoses (setup.py) ... \u001b[?25l\u001b[?25hdone\n",
            "  Created wheel for sacremoses: filename=sacremoses-0.0.43-cp37-none-any.whl size=893262 sha256=f0db41ca8cb9bcde78e6d0d8d550ee75230e33b05d9bdd0b1e38e348a8f0b53b\n",
            "  Stored in directory: /root/.cache/pip/wheels/29/3c/fd/7ce5c3f0666dab31a50123635e6fb5e19ceb42ce38d4e58f45\n",
            "Successfully built sacremoses\n",
            "Installing collected packages: tokenizers, sacremoses, transformers\n",
            "Successfully installed sacremoses-0.0.43 tokenizers-0.10.1 transformers-4.4.1\n"
          ],
          "name": "stdout"
        }
      ]
    },
    {
      "cell_type": "code",
      "metadata": {
        "id": "ei2yfqZGGWFm"
      },
      "source": [
        "import torch\r\n",
        "import sys\r\n",
        "path = (\"input-marginalization\")\r\n",
        "if path not in sys.path:\r\n",
        "    sys.path.insert(0, path)"
      ],
      "execution_count": 3,
      "outputs": []
    },
    {
      "cell_type": "code",
      "metadata": {
        "colab": {
          "base_uri": "https://localhost:8080/"
        },
        "id": "JwDy1yiQGZAG",
        "outputId": "8a359dd7-2614-4710-eb93-769394e0d7dc"
      },
      "source": [
        "!pip install pytorch_pretrained_bert"
      ],
      "execution_count": 4,
      "outputs": [
        {
          "output_type": "stream",
          "text": [
            "Collecting pytorch_pretrained_bert\n",
            "\u001b[?25l  Downloading https://files.pythonhosted.org/packages/d7/e0/c08d5553b89973d9a240605b9c12404bcf8227590de62bae27acbcfe076b/pytorch_pretrained_bert-0.6.2-py3-none-any.whl (123kB)\n",
            "\r\u001b[K     |██▋                             | 10kB 16.7MB/s eta 0:00:01\r\u001b[K     |█████▎                          | 20kB 22.8MB/s eta 0:00:01\r\u001b[K     |████████                        | 30kB 26.6MB/s eta 0:00:01\r\u001b[K     |██████████▋                     | 40kB 20.7MB/s eta 0:00:01\r\u001b[K     |█████████████▎                  | 51kB 16.3MB/s eta 0:00:01\r\u001b[K     |███████████████▉                | 61kB 18.4MB/s eta 0:00:01\r\u001b[K     |██████████████████▌             | 71kB 14.5MB/s eta 0:00:01\r\u001b[K     |█████████████████████▏          | 81kB 14.0MB/s eta 0:00:01\r\u001b[K     |███████████████████████▉        | 92kB 15.0MB/s eta 0:00:01\r\u001b[K     |██████████████████████████▌     | 102kB 14.5MB/s eta 0:00:01\r\u001b[K     |█████████████████████████████▏  | 112kB 14.5MB/s eta 0:00:01\r\u001b[K     |███████████████████████████████▊| 122kB 14.5MB/s eta 0:00:01\r\u001b[K     |████████████████████████████████| 133kB 14.5MB/s \n",
            "\u001b[?25hRequirement already satisfied: tqdm in /usr/local/lib/python3.7/dist-packages (from pytorch_pretrained_bert) (4.41.1)\n",
            "Requirement already satisfied: torch>=0.4.1 in /usr/local/lib/python3.7/dist-packages (from pytorch_pretrained_bert) (1.8.0+cu101)\n",
            "Requirement already satisfied: requests in /usr/local/lib/python3.7/dist-packages (from pytorch_pretrained_bert) (2.23.0)\n",
            "Requirement already satisfied: numpy in /usr/local/lib/python3.7/dist-packages (from pytorch_pretrained_bert) (1.19.5)\n",
            "Requirement already satisfied: regex in /usr/local/lib/python3.7/dist-packages (from pytorch_pretrained_bert) (2019.12.20)\n",
            "Collecting boto3\n",
            "\u001b[?25l  Downloading https://files.pythonhosted.org/packages/0b/3e/1649fa2b98a71635f721b00fd45477f7e2ecb4d5416d768abfa992ba771c/boto3-1.17.29-py2.py3-none-any.whl (131kB)\n",
            "\u001b[K     |████████████████████████████████| 133kB 23.1MB/s \n",
            "\u001b[?25hRequirement already satisfied: typing-extensions in /usr/local/lib/python3.7/dist-packages (from torch>=0.4.1->pytorch_pretrained_bert) (3.7.4.3)\n",
            "Requirement already satisfied: chardet<4,>=3.0.2 in /usr/local/lib/python3.7/dist-packages (from requests->pytorch_pretrained_bert) (3.0.4)\n",
            "Requirement already satisfied: certifi>=2017.4.17 in /usr/local/lib/python3.7/dist-packages (from requests->pytorch_pretrained_bert) (2020.12.5)\n",
            "Requirement already satisfied: idna<3,>=2.5 in /usr/local/lib/python3.7/dist-packages (from requests->pytorch_pretrained_bert) (2.10)\n",
            "Requirement already satisfied: urllib3!=1.25.0,!=1.25.1,<1.26,>=1.21.1 in /usr/local/lib/python3.7/dist-packages (from requests->pytorch_pretrained_bert) (1.24.3)\n",
            "Collecting s3transfer<0.4.0,>=0.3.0\n",
            "\u001b[?25l  Downloading https://files.pythonhosted.org/packages/ea/43/4b4a1b26eb03a429a4c37ca7fdf369d938bd60018fc194e94b8379b0c77c/s3transfer-0.3.4-py2.py3-none-any.whl (69kB)\n",
            "\u001b[K     |████████████████████████████████| 71kB 9.0MB/s \n",
            "\u001b[?25hCollecting botocore<1.21.0,>=1.20.29\n",
            "\u001b[?25l  Downloading https://files.pythonhosted.org/packages/ec/d0/b14d6bff655a0d24a2035480ac31d806844ae549c0db114acc450e4db8b8/botocore-1.20.29-py2.py3-none-any.whl (7.3MB)\n",
            "\u001b[K     |████████████████████████████████| 7.3MB 12.9MB/s \n",
            "\u001b[?25hCollecting jmespath<1.0.0,>=0.7.1\n",
            "  Downloading https://files.pythonhosted.org/packages/07/cb/5f001272b6faeb23c1c9e0acc04d48eaaf5c862c17709d20e3469c6e0139/jmespath-0.10.0-py2.py3-none-any.whl\n",
            "Requirement already satisfied: python-dateutil<3.0.0,>=2.1 in /usr/local/lib/python3.7/dist-packages (from botocore<1.21.0,>=1.20.29->boto3->pytorch_pretrained_bert) (2.8.1)\n",
            "Requirement already satisfied: six>=1.5 in /usr/local/lib/python3.7/dist-packages (from python-dateutil<3.0.0,>=2.1->botocore<1.21.0,>=1.20.29->boto3->pytorch_pretrained_bert) (1.15.0)\n",
            "\u001b[31mERROR: botocore 1.20.29 has requirement urllib3<1.27,>=1.25.4, but you'll have urllib3 1.24.3 which is incompatible.\u001b[0m\n",
            "Installing collected packages: jmespath, botocore, s3transfer, boto3, pytorch-pretrained-bert\n",
            "Successfully installed boto3-1.17.29 botocore-1.20.29 jmespath-0.10.0 pytorch-pretrained-bert-0.6.2 s3transfer-0.3.4\n"
          ],
          "name": "stdout"
        }
      ]
    },
    {
      "cell_type": "code",
      "metadata": {
        "id": "i_n90W29Gb7h"
      },
      "source": [
        "from metrics import zero_erasure, unk_erasure, colored_sentence, encode, erasure, input_marginalization,continuous_colored_sentence\r\n",
        "from utils import generate_dataloaders, train, test,load_dataset\r\n"
      ],
      "execution_count": 18,
      "outputs": []
    },
    {
      "cell_type": "code",
      "metadata": {
        "colab": {
          "base_uri": "https://localhost:8080/"
        },
        "id": "hzFgu9_JGeHB",
        "outputId": "61b607ae-801d-4276-9776-78d5f8e7c0d1"
      },
      "source": [
        "BATCH_SIZE = 1\r\n",
        "if torch.cuda.is_available():\r\n",
        "    device = \"cuda\"\r\n",
        "else:\r\n",
        "    device = \"cpu\"\r\n",
        "\r\n",
        "print(\"Running on '%s'.\" % device)"
      ],
      "execution_count": 6,
      "outputs": [
        {
          "output_type": "stream",
          "text": [
            "Running on 'cuda'.\n"
          ],
          "name": "stdout"
        }
      ]
    },
    {
      "cell_type": "code",
      "metadata": {
        "colab": {
          "base_uri": "https://localhost:8080/"
        },
        "id": "io08FMfSGgds",
        "outputId": "bb0ff78a-8bfa-4411-a7b4-72cda5981905"
      },
      "source": [
        "from google.colab import drive\r\n",
        "drive.mount('/content/gdrive')\r\n",
        "save_dir = \"/content/gdrive/My Drive/input-marginalization\""
      ],
      "execution_count": 7,
      "outputs": [
        {
          "output_type": "stream",
          "text": [
            "Mounted at /content/gdrive\n"
          ],
          "name": "stdout"
        }
      ]
    },
    {
      "cell_type": "code",
      "metadata": {
        "colab": {
          "base_uri": "https://localhost:8080/"
        },
        "id": "mnRtMdZqGn_z",
        "outputId": "9876f710-8153-4597-bca1-ddce4ade8a4d"
      },
      "source": [
        "train_dataloader, validation_dataloader, test_dataloader = generate_dataloaders(BATCH_SIZE)"
      ],
      "execution_count": 8,
      "outputs": [
        {
          "output_type": "stream",
          "text": [
            "6,919 training samples.\n",
            "  876 validation samples.\n",
            "1,822 test samples.\n"
          ],
          "name": "stdout"
        }
      ]
    },
    {
      "cell_type": "code",
      "metadata": {
        "id": "Xez2s7N1kUS3"
      },
      "source": [
        "sentences = [\r\n",
        "  \"a good piece of work more often than not .\",\r\n",
        "  \"it ' s also , clearly , great fun .\",\r\n",
        "  \"the best film about baseball to hit theaters since field of dreams .\",\r\n",
        "  \"it ' s a bit disappointing that it only manages to be decent instead of dead brilliant .\"\r\n",
        "]\r\n"
      ],
      "execution_count": 99,
      "outputs": []
    },
    {
      "cell_type": "code",
      "metadata": {
        "id": "yzhrxncVGvYr"
      },
      "source": [
        "cnn = torch.load(f\"{save_dir}/cnn_sst2.pt\")\r\n",
        "\r\n",
        "bert = torch.load(f\"{save_dir}/bert_sst2.pt\")\r\n",
        "\r\n",
        "lstm_sst2 = torch.load(f\"{save_dir}/lstm_sst2.pt\").to(device)\r\n"
      ],
      "execution_count": 20,
      "outputs": []
    },
    {
      "cell_type": "code",
      "metadata": {
        "id": "ysrwZr_WU6Qe"
      },
      "source": [
        "tokenizer = BertTokenizer.from_pretrained(\"bert-base-uncased\")\r\n",
        "vocab = tokenizer.vocab\r\n",
        "from torch.nn import LogSoftmax\r\n",
        "from torch.nn import Softmax\r\n",
        "# TODO: Make this work for batches.\r\n",
        "def erasure(model, sentence, special_token, target_label=None):\r\n",
        "    device = \"cuda\" if next(model.parameters()).is_cuda else \"cpu\"\r\n",
        "    input_ids, attention_masks, labels = encode(sentence, device)\r\n",
        "    seq_len = input_ids.shape[1]\r\n",
        "    model.eval()\r\n",
        "\r\n",
        "    att_scores = torch.zeros(input_ids.shape)\r\n",
        "    with torch.no_grad():\r\n",
        "\r\n",
        "        logits_true = model(\r\n",
        "            input_ids, attention_mask=attention_masks, labels=labels,\r\n",
        "        ).logits[0]\r\n",
        "\r\n",
        "        if target_label is None:\r\n",
        "            target_label = torch.argmax(logits_true)\r\n",
        "        #print(target_label)\r\n",
        "        log_odds_true = LogSoftmax(dim=0)(logits_true)[target_label] - math.log(1-Softmax(dim=0)(logits_true)[target_label])\r\n",
        "        \r\n",
        "\r\n",
        "        \r\n",
        "        for t in range(seq_len):\r\n",
        "            temp = input_ids[0, t].item()  # item() to pass by value.\r\n",
        "            input_ids[0, t] = vocab[special_token]\r\n",
        "            logits = model(\r\n",
        "                input_ids, attention_mask=attention_masks, labels=labels,\r\n",
        "            ).logits[0]\r\n",
        "\r\n",
        "            att_scores[0, t] = log_odds_true - (LogSoftmax(dim=0)(logits)[target_label]-math.log(1-Softmax(dim=0)(logits)[target_label]))\r\n",
        "            input_ids[0, t] = temp  # Change token back after replacement.\r\n",
        "\r\n",
        "        return att_scores\r\n"
      ],
      "execution_count": 157,
      "outputs": []
    },
    {
      "cell_type": "code",
      "metadata": {
        "colab": {
          "base_uri": "https://localhost:8080/"
        },
        "id": "gvxdBGnakLWJ",
        "outputId": "b6bc9015-526d-42d9-e6bc-70f6a3a56d77"
      },
      "source": [
        "for sentence in sentences:\r\n",
        "    \r\n",
        "    print(sentence)\r\n",
        "    #bert +zero \r\n",
        "    #print(erasure(lstm_sst2, sentence, \"[PAD]\"))\r\n",
        "    colored_sentence(sentence,erasure(lstm_sst2, sentence, \"[PAD]\"))\r\n",
        "    #print(input_marginalization(cnn, sentence, mlm))\r\n",
        "    #BERT + input-marginalization\r\n",
        "    colored_sentence(sentence,input_marginalization(lstm_sst2, sentence, mlm))"
      ],
      "execution_count": 154,
      "outputs": [
        {
          "output_type": "stream",
          "text": [
            "a good piece of work more often than not .\n",
            "tensor(1, device='cuda:0')\n",
            " \u001b[48;2;255;0;0ma\u001b[0m \u001b[48;2;255;0;0mgood\u001b[0m \u001b[48;2;255;0;0mpiece\u001b[0m \u001b[48;2;255;0;0mof\u001b[0m \u001b[48;2;255;0;0mwork\u001b[0m \u001b[48;2;255;0;0mmore\u001b[0m \u001b[48;2;225;102;102moften\u001b[0m \u001b[48;2;255;230;234mthan\u001b[0m \u001b[48;2;0;0;255mnot\u001b[0m \u001b[48;2;0;0;255m.\u001b[0m\n",
            " \u001b[48;2;255;0;0ma\u001b[0m \u001b[48;2;255;230;234mgood\u001b[0m \u001b[48;2;255;230;234mpiece\u001b[0m \u001b[48;2;255;230;234mof\u001b[0m \u001b[48;2;255;230;234mwork\u001b[0m \u001b[48;2;255;230;234mmore\u001b[0m \u001b[48;2;204;229;255moften\u001b[0m \u001b[48;2;255;230;234mthan\u001b[0m \u001b[48;2;255;230;234mnot\u001b[0m \u001b[48;2;204;229;255m.\u001b[0m\n",
            "it ' s also , clearly , great fun .\n",
            "tensor(1, device='cuda:0')\n",
            " \u001b[48;2;255;0;0mit\u001b[0m \u001b[48;2;225;102;102m'\u001b[0m \u001b[48;2;225;102;102ms\u001b[0m \u001b[48;2;255;230;234malso\u001b[0m \u001b[48;2;225;102;102m,\u001b[0m \u001b[48;2;255;0;0mclearly\u001b[0m \u001b[48;2;255;230;234m,\u001b[0m \u001b[48;2;255;0;0mgreat\u001b[0m \u001b[48;2;255;0;0mfun\u001b[0m \u001b[48;2;255;0;0m.\u001b[0m\n",
            " \u001b[48;2;255;0;0mit\u001b[0m \u001b[48;2;204;229;255m'\u001b[0m \u001b[48;2;204;229;255ms\u001b[0m \u001b[48;2;255;230;234malso\u001b[0m \u001b[48;2;255;230;234m,\u001b[0m \u001b[48;2;204;229;255mclearly\u001b[0m \u001b[48;2;255;204;204m,\u001b[0m \u001b[48;2;204;229;255mgreat\u001b[0m \u001b[48;2;255;230;234mfun\u001b[0m \u001b[48;2;255;230;234m.\u001b[0m\n",
            "the best film about baseball to hit theaters since field of dreams .\n",
            "tensor(1, device='cuda:0')\n",
            " \u001b[48;2;255;0;0mthe\u001b[0m \u001b[48;2;255;0;0mbest\u001b[0m \u001b[48;2;255;0;0mfilm\u001b[0m \u001b[48;2;255;0;0mabout\u001b[0m \u001b[48;2;255;0;0mbaseball\u001b[0m \u001b[48;2;255;230;234mto\u001b[0m \u001b[48;2;255;230;234mhit\u001b[0m \u001b[48;2;225;102;102mtheaters\u001b[0m \u001b[48;2;255;230;234msince\u001b[0m \u001b[48;2;225;102;102mfield\u001b[0m \u001b[48;2;255;230;234mof\u001b[0m \u001b[48;2;225;102;102mdreams\u001b[0m \u001b[48;2;255;0;0m.\u001b[0m\n",
            " \u001b[48;2;255;0;0mthe\u001b[0m \u001b[48;2;255;0;0mbest\u001b[0m \u001b[48;2;255;0;0mfilm\u001b[0m \u001b[48;2;255;230;234mabout\u001b[0m \u001b[48;2;255;230;234mbaseball\u001b[0m \u001b[48;2;204;229;255mto\u001b[0m \u001b[48;2;204;229;255mhit\u001b[0m \u001b[48;2;255;230;234mtheaters\u001b[0m \u001b[48;2;255;230;234msince\u001b[0m \u001b[48;2;255;230;234mfield\u001b[0m \u001b[48;2;255;230;234mof\u001b[0m \u001b[48;2;255;230;234mdreams\u001b[0m \u001b[48;2;255;230;234m.\u001b[0m\n",
            "it ' s a bit disappointing that it only manages to be decent instead of dead brilliant .\n",
            "tensor(1, device='cuda:0')\n",
            " \u001b[48;2;255;0;0mit\u001b[0m \u001b[48;2;225;102;102m'\u001b[0m \u001b[48;2;225;102;102ms\u001b[0m \u001b[48;2;225;102;102ma\u001b[0m \u001b[48;2;255;0;0mbit\u001b[0m \u001b[48;2;255;0;0mdisappointing\u001b[0m \u001b[48;2;255;230;234mthat\u001b[0m \u001b[48;2;225;102;102mit\u001b[0m \u001b[48;2;0;0;255monly\u001b[0m \u001b[48;2;0;0;255mmanages\u001b[0m \u001b[48;2;255;0;0mto\u001b[0m \u001b[48;2;225;102;102mbe\u001b[0m \u001b[48;2;204;229;255mdecent\u001b[0m \u001b[48;2;0;0;255minstead\u001b[0m \u001b[48;2;0;0;255mof\u001b[0m \u001b[48;2;225;102;102mdead\u001b[0m \u001b[48;2;255;0;0mbrilliant\u001b[0m \u001b[48;2;255;0;0m.\u001b[0m\n",
            " \u001b[48;2;255;0;0mit\u001b[0m \u001b[48;2;102;178;225m'\u001b[0m \u001b[48;2;255;230;234ms\u001b[0m \u001b[48;2;255;230;234ma\u001b[0m \u001b[48;2;255;230;234mbit\u001b[0m \u001b[48;2;255;230;234mdisappointing\u001b[0m \u001b[48;2;255;230;234mthat\u001b[0m \u001b[48;2;255;230;234mit\u001b[0m \u001b[48;2;204;229;255monly\u001b[0m \u001b[48;2;255;230;234mmanages\u001b[0m \u001b[48;2;225;102;102mto\u001b[0m \u001b[48;2;255;230;234mbe\u001b[0m \u001b[48;2;255;230;234mdecent\u001b[0m \u001b[48;2;102;178;225minstead\u001b[0m \u001b[48;2;204;229;255mof\u001b[0m \u001b[48;2;255;230;234mdead\u001b[0m \u001b[48;2;255;230;234mbrilliant\u001b[0m \u001b[48;2;255;230;234m.\u001b[0m\n"
          ],
          "name": "stdout"
        }
      ]
    },
    {
      "cell_type": "code",
      "metadata": {
        "colab": {
          "base_uri": "https://localhost:8080/"
        },
        "id": "gQqxtrX6G0Xx",
        "outputId": "2163b72d-ed10-4ebd-de8a-df24b2014b4c"
      },
      "source": [
        "#make a subset of 700 test_dataset\r\n",
        "\r\n",
        "#generate 700 random numbers\r\n",
        "import random\r\n",
        "from torch.utils.data import DataLoader, RandomSampler, SequentialSampler, TensorDataset\r\n",
        "\r\n",
        "test_dataset = load_dataset(\"test\")\r\n",
        "randomlist = random.sample(range(len(test_dataset)), 700)\r\n",
        "\r\n",
        "test_subset = torch.utils.data.Subset(test_dataset, randomlist)\r\n",
        "test_subloader = DataLoader(\r\n",
        "        test_subset, sampler=RandomSampler(test_subset), batch_size=BATCH_SIZE\r\n",
        "    )\r\n",
        "print(\"{:>5,} test samples.\".format(len(test_subset)))"
      ],
      "execution_count": 242,
      "outputs": [
        {
          "output_type": "stream",
          "text": [
            "  700 test samples.\n"
          ],
          "name": "stdout"
        }
      ]
    },
    {
      "cell_type": "code",
      "metadata": {
        "colab": {
          "base_uri": "https://localhost:8080/"
        },
        "id": "te-qLvc_HMed",
        "outputId": "a5edcb7a-26e8-46ae-e89e-4eb1a311140d"
      },
      "source": [
        "from transformers import BertForMaskedLM\r\n",
        "mlm = BertForMaskedLM.from_pretrained('bert-base-uncased').cuda()"
      ],
      "execution_count": 215,
      "outputs": [
        {
          "output_type": "stream",
          "text": [
            "Some weights of the model checkpoint at bert-base-uncased were not used when initializing BertForMaskedLM: ['cls.seq_relationship.weight', 'cls.seq_relationship.bias']\n",
            "- This IS expected if you are initializing BertForMaskedLM from the checkpoint of a model trained on another task or with another architecture (e.g. initializing a BertForSequenceClassification model from a BertForPreTraining model).\n",
            "- This IS NOT expected if you are initializing BertForMaskedLM from the checkpoint of a model that you expect to be exactly identical (initializing a BertForSequenceClassification model from a BertForSequenceClassification model).\n"
          ],
          "name": "stderr"
        }
      ]
    },
    {
      "cell_type": "code",
      "metadata": {
        "id": "zWxIMm50b2ld"
      },
      "source": [
        "def compute_probability2(model, input_ids, attention_masks, label):\r\n",
        "  \r\n",
        "    logits = model(\r\n",
        "        input_ids.to(torch.int64), attention_mask=attention_masks, labels=label.repeat((len(input_ids))),\r\n",
        "    ).logits\r\n",
        "    probabilitydist = F.softmax(logits, dim=1)\r\n",
        "    return torch.reshape(probabilitydist[:, label], (-1,))\r\n"
      ],
      "execution_count": 203,
      "outputs": []
    },
    {
      "cell_type": "code",
      "metadata": {
        "id": "eGHUfcSybuBh"
      },
      "source": [
        "def calculate_woe(model, input_ids, attention_masks, label, sigma):\r\n",
        "  device = \"cuda\" if next(model.parameters()).is_cuda else \"cpu\"\r\n",
        "  \r\n",
        "  bert_model.to(device)\r\n",
        "  \r\n",
        "  #predictions is the probability distribution of each word in the vocabulary for each word in input sentence\r\n",
        "  predictions = mlm(input_ids)\r\n",
        " \r\n",
        "  predictions = torch.squeeze(predictions[0])\r\n",
        "  predictions = F.softmax(predictions, dim=1)\r\n",
        "\r\n",
        "  #woe is the weight of evidence\r\n",
        "  woe = []\r\n",
        "  model.eval()\r\n",
        "\r\n",
        "  with torch.no_grad():\r\n",
        "    for j in range (len(predictions)):\r\n",
        "      word_scores = predictions[j]\r\n",
        "      input_batch = input_ids.clone().to(device)\r\n",
        "      \r\n",
        "      #word_scores_batch calculates the value of the MLM of Bert for each masked word\r\n",
        "      #we put 0 for the first input which is unmasked\r\n",
        "      word_scores_batch = [0]\r\n",
        "\r\n",
        "      for k in range(len(word_scores)):\r\n",
        "        if word_scores[k] > sigma:\r\n",
        "           input_batch = torch.cat((input_batch, input_ids), 0)\r\n",
        "           input_batch[len(input_batch)-1][j] = k\r\n",
        "           word_scores_batch.append(word_scores[k].item())\r\n",
        "      \r\n",
        "      #probability_input calculates the p(label|sentence) of the target model given each masked input sentence\r\n",
        "      probability_input = compute_probability2(model, input_batch, attention_masks, label)\r\n",
        "      m = torch.dot(torch.tensor(word_scores_batch).to(device), probability_input)\r\n",
        "      logodds_input = math.log(probability_input[0] / (1-probability_input[0]))\r\n",
        "      logodds_m = math.log(m / (1-m))\r\n",
        "      woe.append(logodds_input-logodds_m)\r\n",
        "  return woe"
      ],
      "execution_count": 237,
      "outputs": []
    },
    {
      "cell_type": "code",
      "metadata": {
        "id": "VtfwuAVnG9_8"
      },
      "source": [
        "from termcolor import colored\r\n",
        "import numpy as np\r\n",
        "import math\r\n",
        "\r\n",
        "from itertools import chain\r\n",
        "import torch.nn.functional as F\r\n",
        "\r\n",
        "SIGMA = 1e-4\r\n",
        "\r\n",
        "def AUC_store(model):\r\n",
        "    #create 2d numpy array to store probability for predicted class\r\n",
        "    zero_p = np.zeros((700,14))\r\n",
        "    mag_p = np.zeros((700,14))\r\n",
        "    unk_p = np.zeros((700,14))\r\n",
        "    for idx,batch in enumerate(test_subloader,0):\r\n",
        "        tokens = tokenizer.convert_ids_to_tokens(batch[0][0])\r\n",
        "        sentence = (tokenizer.convert_tokens_to_string(tokens))\r\n",
        "        b_input_ids = batch[0].to(device)\r\n",
        "        b_input_mask = batch[1].to(device)\r\n",
        "        b_labels = batch[2].to(device)\r\n",
        "        label_ids = b_labels.to('cpu').numpy()  \r\n",
        "        \r\n",
        "        label = label_ids.flatten() \r\n",
        "        update_sentence = []\r\n",
        "        #remove extra padding and start end token\r\n",
        "        for i in sentence.split():\r\n",
        "            if i != '[CLS]' and i != '[SEP]' and i != '[PAD]':           \r\n",
        "                update_sentence.append(i)\r\n",
        "        #convert list to string\r\n",
        "        sentence_string = ' '.join([str(elem) for elem in update_sentence]) \r\n",
        "        \r\n",
        "        #sort them in the order of importance   \r\n",
        "        zero_bert,indicies = torch.sort((erasure(model,sentence_string,\"[PAD]\")),descending=True)  \r\n",
        "        unk_bert, ind_b = torch.sort((erasure(model,sentence_string,\"[UNK]\")),descending=True)\r\n",
        "        \r\n",
        "        woe = calculate_woe(model, torch.unsqueeze(b_input_ids[0][1:11],0),torch.unsqueeze(b_input_mask[0][:11],0),torch.unsqueeze(b_labels[0],0), SIGMA)\r\n",
        "        #woe = input_marginalization(model,sentence_string,mlm)[0]\r\n",
        "        #woe = calculate_woe(model, torch.unsqueeze(b_input_ids[0][1:11],0),torch.unsqueeze(b_input_mask[0][:11],0),torch.unsqueeze(b_labels[0],0), SIGMA)\r\n",
        "\r\n",
        "        ind_m = [i for i in sorted(enumerate(woe), key=lambda x:x[1],reverse=True)]\r\n",
        "        \r\n",
        "        max_erase = int(len(sentence_string.split())*0.2)\r\n",
        "        #get prediction probability without any erasure\r\n",
        "        output = model(b_input_ids, attention_mask=b_input_mask, labels=b_labels)\r\n",
        "        logits = output.logits\r\n",
        "        \r\n",
        "        zero_p[idx,0] = Softmax(dim=0)(logits[0])[b_labels]/(Softmax(dim=0)(logits[0])[b_labels]+ Softmax(dim=0)(logits[0])[1-b_labels])\r\n",
        "        unk_p[idx,0] = zero_p[idx,0]\r\n",
        "        mag_p[idx,0] = zero_p[idx,0]      \r\n",
        "        \r\n",
        "        indicies = list(chain.from_iterable(indicies)) \r\n",
        "        ind_b = list(chain.from_iterable(ind_b))\r\n",
        "        ind_m = [i[0] for i in ind_m]\r\n",
        "        \r\n",
        "        \r\n",
        "        for j,i in enumerate(indicies,1):\r\n",
        "            if j >= max_erase:\r\n",
        "                break\r\n",
        "            #remove the index i and make new prediction, calculate the accuracy on all 700 sentence\r\n",
        "            \r\n",
        "            tokens[i+1] = '[PAD]'\r\n",
        "            \r\n",
        "            x = (tokenizer.convert_tokens_to_ids(tokens))\r\n",
        "            x = torch.tensor(x).to(device)\r\n",
        "            x = x.unsqueeze(0)\r\n",
        "            \r\n",
        "            output = model(x, attention_mask=b_input_mask, labels=b_labels)\r\n",
        "            logits = output.logits\r\n",
        "            \r\n",
        "            zero_p[idx,j] = Softmax(dim=0)(logits[0])[b_labels]/((Softmax(dim=0)(logits[0])[b_labels]+ Softmax(dim=0)(logits[0])[1-b_labels]))\r\n",
        "        \r\n",
        "        #unk padding\r\n",
        "        \r\n",
        "        for j,i in enumerate(ind_b,1):\r\n",
        "\r\n",
        "            if j >= max_erase:\r\n",
        "                break\r\n",
        "            #remove the index i and make new prediction, calculate the accuracy on all 700 sentence\r\n",
        "            \r\n",
        "            tokens[i+1] = '[PAD]'\r\n",
        "            \r\n",
        "            x = (tokenizer.convert_tokens_to_ids(tokens))\r\n",
        "            x = torch.tensor(x).to(device)\r\n",
        "            x = x.unsqueeze(0)\r\n",
        "            \r\n",
        "            output = model(x, attention_mask=b_input_mask, labels=b_labels)\r\n",
        "            logits = output.logits \r\n",
        "            \r\n",
        "            unk_p[idx,j] = Softmax(dim=0)(logits[0])[b_labels]/(Softmax(dim=0)(logits[0])[b_labels]+ Softmax(dim=0)(logits[0])[1-b_labels])\r\n",
        "        \r\n",
        "        #input_marginalization\r\n",
        "        for j,i in enumerate(ind_m,1):\r\n",
        "\r\n",
        "            if j >= max_erase:\r\n",
        "                break\r\n",
        "            #remove the index i and make new prediction, calculate the accuracy on all 700 sentence\r\n",
        "            \r\n",
        "            tokens[i+1] = '[PAD]'\r\n",
        "            \r\n",
        "            x = (tokenizer.convert_tokens_to_ids(tokens))\r\n",
        "            x = torch.tensor(x).to(device)\r\n",
        "            x = x.unsqueeze(0)\r\n",
        "            \r\n",
        "            output = model(x, attention_mask=b_input_mask, labels=b_labels)\r\n",
        "            logits = output.logits\r\n",
        "            \r\n",
        "            mag_p[idx,j] = Softmax(dim=0)(logits[0])[b_labels]/(Softmax(dim=0)(logits[0])[b_labels]+ Softmax(dim=0)(logits[0])[1-b_labels])\r\n",
        "       \r\n",
        "    return  zero_p,unk_p,mag_p "
      ],
      "execution_count": 243,
      "outputs": []
    },
    {
      "cell_type": "code",
      "metadata": {
        "id": "3QCupZkvxjJP"
      },
      "source": [
        "import matplotlib.pyplot as plt \r\n",
        "import matplotlib.ticker as mticker\r\n",
        "zero_p,unk_p,mag_p = AUC_store(lstm_sst2)"
      ],
      "execution_count": 244,
      "outputs": []
    },
    {
      "cell_type": "code",
      "metadata": {
        "colab": {
          "base_uri": "https://localhost:8080/",
          "height": 295
        },
        "id": "eEyvqi-PHDBq",
        "outputId": "04d9c181-1f98-4c73-9eed-db375dd7ab10"
      },
      "source": [
        "\r\n",
        "#get the average probability of a class on the 700 sentence\r\n",
        "avg_zero = zero_p.mean(0) \r\n",
        "avg_unk = unk_p.mean(0)\r\n",
        "avg_mag = mag_p.mean(0)\r\n",
        "x = range(5)\r\n",
        "  \r\n",
        "# plotting the points  \r\n",
        "plt.plot(x, avg_zero[:5],'r') \r\n",
        "plt.plot(x,avg_unk[:5],'g')\r\n",
        "plt.plot(x,avg_mag[:5],'b') \r\n",
        "plt.gca().xaxis.set_major_locator(mticker.MultipleLocator(1))\r\n",
        "# naming the x axis \r\n",
        "plt.xlabel('x - number of erased tokens') \r\n",
        "# naming the y axis \r\n",
        "plt.ylabel('y - prediction probability') \r\n",
        "  \r\n",
        "# giving a title to my graph \r\n",
        "plt.title('AUC on lstm') \r\n",
        "plt.legend(['Zero-pad','unk-pad','input-marginalization']) \r\n",
        "# function to show the plot \r\n",
        "plt.show() "
      ],
      "execution_count": 245,
      "outputs": [
        {
          "output_type": "display_data",
          "data": {
            "image/png": "[encoded data removed]",
            "text/plain": [
              "<Figure size 432x288 with 1 Axes>"
            ]
          },
          "metadata": {
            "tags": [],
            "needs_background": "light"
          }
        }
      ]
    },
    {
      "cell_type": "code",
      "metadata": {
        "colab": {
          "base_uri": "https://localhost:8080/"
        },
        "id": "gIj3rqYnp7N-",
        "outputId": "2b77fefe-4276-422b-d498-fa937085399b"
      },
      "source": [
        "print(avg_zero[:4].mean())\r\n",
        "print(avg_unk[:4].mean())\r\n",
        "print(avg_mag[:4].mean())"
      ],
      "execution_count": 246,
      "outputs": [
        {
          "output_type": "stream",
          "text": [
            "0.5608049013848722\n",
            "0.532860955888022\n",
            "0.4834183731207148\n"
          ],
          "name": "stdout"
        }
      ]
    }
  ]
}