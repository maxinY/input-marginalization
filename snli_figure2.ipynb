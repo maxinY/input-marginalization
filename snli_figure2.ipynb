{
  "nbformat": 4,
  "nbformat_minor": 0,
  "metadata": {
    "colab": {
      "name": "figure2.ipynb",
      "provenance": [],
      "collapsed_sections": [],
      "include_colab_link": true
    },
    "kernelspec": {
      "name": "python3",
      "display_name": "Python 3"
    },
    "accelerator": "GPU"
  },
  "cells": [
    {
      "cell_type": "markdown",
      "metadata": {
        "id": "view-in-github",
        "colab_type": "text"
      },
      "source": [
        "<a href=\"https://colab.research.google.com/github/ronakdm/input-marginalization/blob/main/snli_figure2.ipynb\" target=\"_parent\"><img src=\"https://colab.research.google.com/assets/colab-badge.svg\" alt=\"Open In Colab\"/></a>"
      ]
    },
    {
      "cell_type": "code",
      "metadata": {
        "id": "0CheHYAYCFvI"
      },
      "source": [
        "%%capture\n",
        "!pip install transformers\n",
        "!git clone https://github.com/ronakdm/input-marginalization.git"
      ],
      "execution_count": 1,
      "outputs": []
    },
    {
      "cell_type": "code",
      "metadata": {
        "colab": {
          "base_uri": "https://localhost:8080/"
        },
        "id": "9i_OZVjiCWyk",
        "outputId": "b99ab38c-c61e-4663-d0e9-abc0b1c507f1"
      },
      "source": [
        "%%bash\n",
        "cd input-marginalization\n",
        "git pull\n",
        "cd .."
      ],
      "execution_count": 2,
      "outputs": [
        {
          "output_type": "stream",
          "text": [
            "Already up to date.\n"
          ],
          "name": "stdout"
        }
      ]
    },
    {
      "cell_type": "code",
      "metadata": {
        "colab": {
          "base_uri": "https://localhost:8080/"
        },
        "id": "nJVkUqeYEOzr",
        "outputId": "88143088-ccf4-46e0-83b6-b14d23dfb686"
      },
      "source": [
        "from google.colab import drive\n",
        "drive.mount('/content/gdrive',force_remount=True)\n",
        "save_dir = \"/content/gdrive/My Drive/NLP/imarg\""
      ],
      "execution_count": 11,
      "outputs": [
        {
          "output_type": "stream",
          "text": [
            "Mounted at /content/gdrive\n"
          ],
          "name": "stdout"
        }
      ]
    },
    {
      "cell_type": "code",
      "metadata": {
        "id": "9L0IvYHhC7nT"
      },
      "source": [
        "%%capture\n",
        "import sys\n",
        "sys.path.append(\"input-marginalization\")\n",
        "\n",
        "from metrics import input_marginalization, colored_sentence\n",
        "import torch\n",
        "from transformers import BertForMaskedLM"
      ],
      "execution_count": 7,
      "outputs": []
    },
    {
      "cell_type": "code",
      "metadata": {
        "id": "HFI-HVQ5NEjn"
      },
      "source": [
        "%%capture\n",
        "mlm = BertForMaskedLM.from_pretrained('bert-base-uncased').cuda()"
      ],
      "execution_count": 8,
      "outputs": []
    },
    {
      "cell_type": "code",
      "metadata": {
        "id": "zfSUYngpEV1O"
      },
      "source": [
        "#bert = torch.load(f\"{save_dir}/bert_sst2.pt\")\n",
        "#cnn = torch.load(f\"{save_dir}/cnn_sst2.pt\")\n",
        "lstm = torch.load(f\"{save_dir}/lstm_sst2.pt\")"
      ],
      "execution_count": 12,
      "outputs": []
    },
    {
      "cell_type": "code",
      "metadata": {
        "id": "I0_p0807DC1E"
      },
      "source": [
        "lstm_sentences = [\n",
        "  (\"pacino is brilliant as the sleep - deprived dormer , his increasing weariness as much existential as it is physical .\", 1),\n",
        "  (\"an important movie , a reminder of the power of file to move us and to make us examine our values .\", 1),\n",
        "  (\"unflinchingly bleak and desperate\", 0),\n",
        "  (\"i am sorry that i was unable to get the full brunt of this comedy .\", 0),\n",
        "]\n",
        "bert_sentences = [\n",
        "  (\"it ' s a lovely film with lovely performances by buy and accorsi .\", 1),\n",
        "  (\"more romantic , emotional and ultimately more satisfying than the teary - eyed original .\", 1),\n",
        "  (\"it ' s a bit disappointing that it only manages to be decent instead of dead brilliant .\", 0),\n",
        "  (\"suffers from the lack of a compelling or comprehensible narrative .\", 0),   \n",
        "]\n",
        "cnn_sentences = [\n",
        "  (\". . . very funny , very enjoyable . . .\", 1),\n",
        "  (\"lookin ' for sin , american - style ?\", 0),\n",
        "]"
      ],
      "execution_count": 13,
      "outputs": []
    },
    {
      "cell_type": "code",
      "metadata": {
        "id": "pvP4wY_-EKBl",
        "colab": {
          "base_uri": "https://localhost:8080/"
        },
        "outputId": "85bffcb5-b270-4e8e-895b-b5c4f9d8ee25"
      },
      "source": [
        "for sentence, label in lstm_sentences:\n",
        "  att_scores = input_marginalization(lstm, sentence, mlm, target_label=label)\n",
        "  print(att_scores)\n",
        "  #colored_sentence(sentence, att_scores)"
      ],
      "execution_count": 16,
      "outputs": [
        {
          "output_type": "stream",
          "text": [
            "tensor([[ 0.1164,  0.4288, -0.7245, -0.9494, -0.5572, -0.9531, -0.9530, -0.9428,\n",
            "         -0.9560, -0.9510, -0.9554, -0.2194, -0.9530, -0.9529, -0.7118, -0.9951,\n",
            "         -1.0224, -0.9530, -0.9531, -0.9390, -0.8969, -0.9531, -0.9531, -0.9523,\n",
            "         -0.9523, -0.9530, -0.8384]])\n",
            "tensor([[-1.3153, -3.7263, -3.9799, -4.1224, -3.9934, -3.9925, -3.9900, -3.9947,\n",
            "         -3.9933, -3.9925, -3.9934, -3.8094, -3.9940, -4.0075, -3.9818, -3.9934,\n",
            "         -3.9942, -3.9972, -3.9674, -4.0296, -3.9933, -3.9933, -3.9940, -3.7421]])\n",
            "tensor([[-0.1443, -1.3332, -2.4188, -2.4545, -2.4546, -2.3547, -2.0366, -2.4535,\n",
            "         -2.3100, -3.0732]])\n",
            "tensor([[-0.0021, -0.5803,  0.7145,  0.8137,  0.8092,  0.8129,  0.8124,  0.8302,\n",
            "          0.8136,  0.8145,  0.8133,  0.8132,  0.5505,  1.2154,  0.8133,  0.8134,\n",
            "          0.7773,  0.8133,  0.6590]])\n"
          ],
          "name": "stdout"
        }
      ]
    },
    {
      "cell_type": "code",
      "metadata": {
        "id": "YSnP22dOHz4i"
      },
      "source": [
        "# try:\n",
        "#   for sentence, label in bert_sentences:\n",
        "#     att_scores = input_marginalization(bert, sentence, mlm, target_label=label)\n",
        "#     color_sentence(sentence, att_scores)\n",
        "# except KeyboardInterrupt:\n",
        "#   print(\"Graceful Exit\")"
      ],
      "execution_count": null,
      "outputs": []
    },
    {
      "cell_type": "code",
      "metadata": {
        "id": "1-g77cGf9rrH"
      },
      "source": [
        "# for sentence, label in cnn_sentences:\n",
        "#   att_scores = input_marginalization(cnn, sentence, mlm, target_label=label)\n",
        "#   color_sentence(sentence, att_scores)"
      ],
      "execution_count": null,
      "outputs": []
    },
    {
      "cell_type": "code",
      "metadata": {
        "id": "rSqAQrY4ST-Y"
      },
      "source": [
        ""
      ],
      "execution_count": null,
      "outputs": []
    }
  ]
}