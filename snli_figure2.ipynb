{
  "nbformat": 4,
  "nbformat_minor": 0,
  "metadata": {
    "colab": {
      "name": "figure2.ipynb",
      "provenance": [],
      "collapsed_sections": [],
      "include_colab_link": true
    },
    "kernelspec": {
      "name": "python3",
      "display_name": "Python 3"
    },
    "accelerator": "GPU"
  },
  "cells": [
    {
      "cell_type": "markdown",
      "metadata": {
        "id": "view-in-github",
        "colab_type": "text"
      },
      "source": [
        "<a href=\"https://colab.research.google.com/github/ronakdm/input-marginalization/blob/main/snli_figure2.ipynb\" target=\"_parent\"><img src=\"https://colab.research.google.com/assets/colab-badge.svg\" alt=\"Open In Colab\"/></a>"
      ]
    },
    {
      "cell_type": "code",
      "metadata": {
        "id": "0CheHYAYCFvI"
      },
      "source": [
        "%%capture\n",
        "!pip install transformers\n",
        "!git clone https://github.com/ronakdm/input-marginalization.git"
      ],
      "execution_count": 1,
      "outputs": []
    },
    {
      "cell_type": "code",
      "metadata": {
        "id": "k_JqM_n3jNJQ"
      },
      "source": [
        "%load_ext autoreload\n",
        "%autoreload 2"
      ],
      "execution_count": 2,
      "outputs": []
    },
    {
      "cell_type": "code",
      "metadata": {
        "colab": {
          "base_uri": "https://localhost:8080/"
        },
        "id": "9i_OZVjiCWyk",
        "outputId": "6122351f-015d-4b7a-b898-20b3613eaf7f"
      },
      "source": [
        "%%bash\n",
        "cd input-marginalization\n",
        "git pull\n",
        "cd .."
      ],
      "execution_count": 3,
      "outputs": [
        {
          "output_type": "stream",
          "text": [
            "Already up to date.\n"
          ],
          "name": "stdout"
        }
      ]
    },
    {
      "cell_type": "code",
      "metadata": {
        "colab": {
          "base_uri": "https://localhost:8080/"
        },
        "id": "nJVkUqeYEOzr",
        "outputId": "28124bbc-482f-44ad-dcba-7393f7c1ab8f"
      },
      "source": [
        "from google.colab import drive\n",
        "drive.mount('/content/gdrive',force_remount=True)\n",
        "save_dir = \"/content/gdrive/My Drive/NLP/imarg\""
      ],
      "execution_count": 4,
      "outputs": [
        {
          "output_type": "stream",
          "text": [
            "Mounted at /content/gdrive\n"
          ],
          "name": "stdout"
        }
      ]
    },
    {
      "cell_type": "code",
      "metadata": {
        "id": "9L0IvYHhC7nT"
      },
      "source": [
        "%%capture\n",
        "import sys\n",
        "sys.path.append(\"input-marginalization\")\n",
        "\n",
        "from metrics import input_marginalization, colored_sentence\n",
        "import torch\n",
        "from transformers import BertForMaskedLM"
      ],
      "execution_count": 5,
      "outputs": []
    },
    {
      "cell_type": "code",
      "metadata": {
        "id": "HFI-HVQ5NEjn"
      },
      "source": [
        "%%capture\n",
        "mlm = BertForMaskedLM.from_pretrained('bert-base-uncased').cuda()"
      ],
      "execution_count": 6,
      "outputs": []
    },
    {
      "cell_type": "code",
      "metadata": {
        "id": "zfSUYngpEV1O"
      },
      "source": [
        "#bert = torch.load(f\"{save_dir}/bert_sst2.pt\")\n",
        "#cnn = torch.load(f\"{save_dir}/cnn_sst2.pt\")\n",
        "lstm = torch.load(f\"{save_dir}/lstm_snli.pt\")"
      ],
      "execution_count": 39,
      "outputs": []
    },
    {
      "cell_type": "code",
      "metadata": {
        "id": "I0_p0807DC1E"
      },
      "source": [
        "lstm_sentences = [\n",
        "  (\"pacino is brilliant as the sleep - deprived dormer , his increasing weariness as much existential as it is physical .\", 1),\n",
        "  (\"an important movie , a reminder of the power of file to move us and to make us examine our values .\", 1),\n",
        "  (\"unflinchingly bleak and desperate\", 0),\n",
        "  (\"i am sorry that i was unable to get the full brunt of this comedy .\", 0),\n",
        "]\n",
        "bert_sentences = [\n",
        "  (\"it ' s a lovely film with lovely performances by buy and accorsi .\", 1),\n",
        "  (\"more romantic , emotional and ultimately more satisfying than the teary - eyed original .\", 1),\n",
        "  (\"it ' s a bit disappointing that it only manages to be decent instead of dead brilliant .\", 0),\n",
        "  (\"suffers from the lack of a compelling or comprehensible narrative .\", 0),   \n",
        "]\n",
        "cnn_sentences = [\n",
        "  (\". . . very funny , very enjoyable . . .\", 1),\n",
        "  (\"lookin ' for sin , american - style ?\", 0),\n",
        "]\n",
        "\n",
        "snli_lstm_sentences = [\n",
        "  (('Two women are embracing while holding to go packages.', 'The sisters are hugging goodbye while holding to go packages after just eating lunch.'), 2),\n",
        "]"
      ],
      "execution_count": 13,
      "outputs": []
    },
    {
      "cell_type": "code",
      "metadata": {
        "id": "pvP4wY_-EKBl",
        "colab": {
          "base_uri": "https://localhost:8080/"
        },
        "outputId": "2e05171a-9fd5-4b76-9ab3-03907f974bb0"
      },
      "source": [
        "for sentences, label in snli_lstm_sentences:\n",
        "  att_scores = input_marginalization(lstm, sentences, mlm, target_label=label, dataset='snli')\n",
        "  print(att_scores)\n",
        "  #colored_sentence(sentence, att_scores)"
      ],
      "execution_count": 64,
      "outputs": [
        {
          "output_type": "stream",
          "text": [
            "tensor([[0.7161, 0.8776, 0.7331, 0.7319, 0.7362, 0.7376, 0.7327, 0.7326, 0.7327,\n",
            "         0.7149, 0.7327, 0.7551, 0.7326, 0.7454, 0.7341, 0.7437, 0.7309, 0.9402,\n",
            "         0.7326, 0.7327, 0.7326, 0.7361, 0.7327, 0.7332, 0.7190, 0.7317, 0.7327,\n",
            "         0.6560]])\n"
          ],
          "name": "stdout"
        }
      ]
    },
    {
      "cell_type": "code",
      "metadata": {
        "id": "YSnP22dOHz4i"
      },
      "source": [
        "# try:\n",
        "#   for sentence, label in bert_sentences:\n",
        "#     att_scores = input_marginalization(bert, sentence, mlm, target_label=label)\n",
        "#     color_sentence(sentence, att_scores)\n",
        "# except KeyboardInterrupt:\n",
        "#   print(\"Graceful Exit\")"
      ],
      "execution_count": 35,
      "outputs": []
    },
    {
      "cell_type": "code",
      "metadata": {
        "id": "1-g77cGf9rrH"
      },
      "source": [
        "# for sentence, label in cnn_sentences:\n",
        "#   att_scores = input_marginalization(cnn, sentence, mlm, target_label=label)\n",
        "#   color_sentence(sentence, att_scores)"
      ],
      "execution_count": null,
      "outputs": []
    },
    {
      "cell_type": "code",
      "metadata": {
        "id": "rSqAQrY4ST-Y"
      },
      "source": [
        ""
      ],
      "execution_count": null,
      "outputs": []
    }
  ]
}