{
  "nbformat": 4,
  "nbformat_minor": 0,
  "metadata": {
    "colab": {
      "name": "Copy of figure2.ipynb",
      "provenance": [],
      "collapsed_sections": [],
      "toc_visible": true,
      "include_colab_link": true
    },
    "kernelspec": {
      "name": "python3",
      "display_name": "Python 3"
    },
    "accelerator": "GPU"
  },
  "cells": [
    {
      "cell_type": "markdown",
      "metadata": {
        "id": "view-in-github",
        "colab_type": "text"
      },
      "source": [
        "<a href=\"https://colab.research.google.com/github/ronakdm/input-marginalization/blob/main/snli_figure2.ipynb\" target=\"_parent\"><img src=\"https://colab.research.google.com/assets/colab-badge.svg\" alt=\"Open In Colab\"/></a>"
      ]
    },
    {
      "cell_type": "code",
      "metadata": {
        "id": "0CheHYAYCFvI"
      },
      "source": [
        "%%capture\n",
        "!pip install transformers\n",
        "!rm -rf input-marginalization\n",
        "!git clone https://github.com/ronakdm/input-marginalization.git"
      ],
      "execution_count": 1,
      "outputs": []
    },
    {
      "cell_type": "code",
      "metadata": {
        "id": "k_JqM_n3jNJQ"
      },
      "source": [
        "%load_ext autoreload\n",
        "%autoreload 2"
      ],
      "execution_count": 2,
      "outputs": []
    },
    {
      "cell_type": "code",
      "metadata": {
        "colab": {
          "base_uri": "https://localhost:8080/"
        },
        "id": "9i_OZVjiCWyk",
        "outputId": "4dce653e-405a-4c5e-d4ce-2fdc313d1e04"
      },
      "source": [
        "%%bash\n",
        "cd input-marginalization\n",
        "git pull\n",
        "cd .."
      ],
      "execution_count": 3,
      "outputs": [
        {
          "output_type": "stream",
          "text": [
            "Already up to date.\n"
          ],
          "name": "stdout"
        }
      ]
    },
    {
      "cell_type": "code",
      "metadata": {
        "colab": {
          "base_uri": "https://localhost:8080/"
        },
        "id": "nJVkUqeYEOzr",
        "outputId": "8a1a031b-9215-451c-c627-0c0048bc3563"
      },
      "source": [
        "from google.colab import drive\n",
        "drive.mount('/content/gdrive',force_remount=True)\n",
        "save_dir = \"/content/gdrive/My Drive/NLP/imarg\""
      ],
      "execution_count": 4,
      "outputs": [
        {
          "output_type": "stream",
          "text": [
            "Mounted at /content/gdrive\n"
          ],
          "name": "stdout"
        }
      ]
    },
    {
      "cell_type": "code",
      "metadata": {
        "id": "9L0IvYHhC7nT"
      },
      "source": [
        "%%capture\n",
        "import sys\n",
        "sys.path.append(\"input-marginalization\")\n",
        "\n",
        "from metrics import input_marginalization, continuous_colored_sentence\n",
        "import torch\n",
        "from transformers import BertForMaskedLM, BertTokenizer"
      ],
      "execution_count": 5,
      "outputs": []
    },
    {
      "cell_type": "code",
      "metadata": {
        "id": "HFI-HVQ5NEjn"
      },
      "source": [
        "%%capture\n",
        "mlm = BertForMaskedLM.from_pretrained('bert-base-uncased').cuda()"
      ],
      "execution_count": 6,
      "outputs": []
    },
    {
      "cell_type": "code",
      "metadata": {
        "id": "zfSUYngpEV1O"
      },
      "source": [
        "#bert = torch.load(f\"{save_dir}/bert_sst2.pt\")\n",
        "#cnn = torch.load(f\"{save_dir}/cnn_sst2.pt\")\n",
        "lstm = torch.load(f\"{save_dir}/lstm_snli.pt\")"
      ],
      "execution_count": 7,
      "outputs": []
    },
    {
      "cell_type": "code",
      "metadata": {
        "id": "I0_p0807DC1E"
      },
      "source": [
        "lstm_sentences = [\n",
        "  (\"pacino is brilliant as the sleep - deprived dormer , his increasing weariness as much existential as it is physical .\", 1),\n",
        "  (\"an important movie , a reminder of the power of file to move us and to make us examine our values .\", 1),\n",
        "  (\"unflinchingly bleak and desperate\", 0),\n",
        "  (\"i am sorry that i was unable to get the full brunt of this comedy .\", 0),\n",
        "]\n",
        "bert_sentences = [\n",
        "  (\"it ' s a lovely film with lovely performances by buy and accorsi .\", 1),\n",
        "  (\"more romantic , emotional and ultimately more satisfying than the teary - eyed original .\", 1),\n",
        "  (\"it ' s a bit disappointing that it only manages to be decent instead of dead brilliant .\", 0),\n",
        "  (\"suffers from the lack of a compelling or comprehensible narrative .\", 0),   \n",
        "]\n",
        "cnn_sentences = [\n",
        "  (\". . . very funny , very enjoyable . . .\", 1),\n",
        "  (\"lookin ' for sin , american - style ?\", 0),\n",
        "]\n",
        "\n",
        "snli_lstm_sentences = [\n",
        "  (('Two women are embracing while holding to go packages.', 'The sisters are hugging goodbye while holding to go packages after just eating lunch.'), 2),\n",
        "  (('bicyclists waiting at an intersection.', 'the bicyclists are dead.'), 0)\n",
        "]"
      ],
      "execution_count": 8,
      "outputs": []
    },
    {
      "cell_type": "code",
      "metadata": {
        "id": "s4i4jliBrKIV"
      },
      "source": [
        "tokenizer = BertTokenizer.from_pretrained(\"bert-base-uncased\")"
      ],
      "execution_count": 9,
      "outputs": []
    },
    {
      "cell_type": "code",
      "metadata": {
        "id": "pvP4wY_-EKBl",
        "colab": {
          "base_uri": "https://localhost:8080/"
        },
        "outputId": "6f87e6f3-7d87-4dfa-9aad-6a2d9223dab2"
      },
      "source": [
        "for sentences, label in snli_lstm_sentences:\n",
        "  (s1, a1), (s2, a2) = input_marginalization(lstm, sentences, mlm, target_label=label, dataset='snli')\n",
        "  \n",
        "  #print(att_scores)\n",
        "  print(f'pre: {continuous_colored_sentence(s1, a1.unsqueeze(0), pretok=True, verbose=False)} | hypo: {continuous_colored_sentence(s2, a2.unsqueeze(0), pretok=True, verbose=False)}')"
      ],
      "execution_count": 14,
      "outputs": [
        {
          "output_type": "stream",
          "text": [
            "pre:  \u001b[48;2;254;254;255mtwo\u001b[0m \u001b[48;2;255;250;250mwomen\u001b[0m \u001b[48;2;255;254;254mare\u001b[0m \u001b[48;2;254;254;255membracing\u001b[0m \u001b[48;2;255;254;254mwhile\u001b[0m \u001b[48;2;255;254;254mholding\u001b[0m \u001b[48;2;255;254;254mto\u001b[0m \u001b[48;2;254;254;255mgo\u001b[0m \u001b[48;2;254;254;255mpackages\u001b[0m \u001b[48;2;254;254;255m.\u001b[0m | hypo:  \u001b[48;2;254;254;255msisters\u001b[0m \u001b[48;2;255;254;254mare\u001b[0m \u001b[48;2;255;254;254mhugging\u001b[0m \u001b[48;2;255;254;254mgoodbye\u001b[0m \u001b[48;2;254;254;255mwhile\u001b[0m \u001b[48;2;255;248;248mholding\u001b[0m \u001b[48;2;254;254;255mto\u001b[0m \u001b[48;2;255;254;254mgo\u001b[0m \u001b[48;2;254;254;255mpackages\u001b[0m \u001b[48;2;255;254;254mafter\u001b[0m \u001b[48;2;255;254;254mjust\u001b[0m \u001b[48;2;255;254;254meating\u001b[0m \u001b[48;2;254;254;255mlunch\u001b[0m \u001b[48;2;254;254;255m.\u001b[0m\n",
            "pre:  \u001b[48;2;255;253;253mbi\u001b[0m\u001b[48;2;255;254;254mcy\u001b[0m\u001b[48;2;255;254;254mcl\u001b[0m\u001b[48;2;255;254;254mists\u001b[0m \u001b[48;2;255;252;252mwaiting\u001b[0m \u001b[48;2;255;254;254mat\u001b[0m \u001b[48;2;254;254;255man\u001b[0m \u001b[48;2;255;254;254mintersection\u001b[0m \u001b[48;2;255;254;254m.\u001b[0m | hypo:  \u001b[48;2;255;254;254mbi\u001b[0m\u001b[48;2;254;254;255mcy\u001b[0m\u001b[48;2;255;254;254mcl\u001b[0m\u001b[48;2;255;254;254mists\u001b[0m \u001b[48;2;254;254;255mare\u001b[0m \u001b[48;2;255;254;254mdead\u001b[0m \u001b[48;2;255;254;254m.\u001b[0m\n"
          ],
          "name": "stdout"
        }
      ]
    },
    {
      "cell_type": "code",
      "metadata": {
        "id": "DKSrORYYqbEE"
      },
      "source": [
        "tokenizer.decode(s2[0])"
      ],
      "execution_count": null,
      "outputs": []
    },
    {
      "cell_type": "code",
      "metadata": {
        "id": "YSnP22dOHz4i"
      },
      "source": [
        "# try:\n",
        "#   for sentence, label in bert_sentences:\n",
        "#     att_scores = input_marginalization(bert, sentence, mlm, target_label=label)\n",
        "#     color_sentence(sentence, att_scores)\n",
        "# except KeyboardInterrupt:\n",
        "#   print(\"Graceful Exit\")"
      ],
      "execution_count": null,
      "outputs": []
    },
    {
      "cell_type": "code",
      "metadata": {
        "id": "1-g77cGf9rrH"
      },
      "source": [
        "# for sentence, label in cnn_sentences:\n",
        "#   att_scores = input_marginalization(cnn, sentence, mlm, target_label=label)\n",
        "#   color_sentence(sentence, att_scores)"
      ],
      "execution_count": null,
      "outputs": []
    },
    {
      "cell_type": "code",
      "metadata": {
        "id": "rSqAQrY4ST-Y"
      },
      "source": [
        "print(a2.shape)"
      ],
      "execution_count": null,
      "outputs": []
    },
    {
      "cell_type": "code",
      "metadata": {
        "id": "2HdUv_J0pT_o"
      },
      "source": [
        ""
      ],
      "execution_count": null,
      "outputs": []
    }
  ]
}