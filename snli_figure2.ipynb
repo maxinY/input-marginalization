{
  "nbformat": 4,
  "nbformat_minor": 0,
  "metadata": {
    "colab": {
      "name": "figure2.ipynb",
      "provenance": [],
      "collapsed_sections": [],
      "include_colab_link": true
    },
    "kernelspec": {
      "name": "python3",
      "display_name": "Python 3"
    },
    "accelerator": "GPU"
  },
  "cells": [
    {
      "cell_type": "markdown",
      "metadata": {
        "id": "view-in-github",
        "colab_type": "text"
      },
      "source": [
        "<a href=\"https://colab.research.google.com/github/ronakdm/input-marginalization/blob/main/snli_figure2.ipynb\" target=\"_parent\"><img src=\"https://colab.research.google.com/assets/colab-badge.svg\" alt=\"Open In Colab\"/></a>"
      ]
    },
    {
      "cell_type": "code",
      "metadata": {
        "id": "0CheHYAYCFvI"
      },
      "source": [
        "%%capture\n",
        "!pip install transformers\n",
        "!git clone https://github.com/ronakdm/input-marginalization.git"
      ],
      "execution_count": 1,
      "outputs": []
    },
    {
      "cell_type": "code",
      "metadata": {
        "id": "k_JqM_n3jNJQ"
      },
      "source": [
        "%load_ext autoreload\n",
        "%autoreload 2"
      ],
      "execution_count": 2,
      "outputs": []
    },
    {
      "cell_type": "code",
      "metadata": {
        "colab": {
          "base_uri": "https://localhost:8080/"
        },
        "id": "9i_OZVjiCWyk",
        "outputId": "583d337e-50ba-4a34-810a-3925bdf87c1b"
      },
      "source": [
        "%%bash\n",
        "cd input-marginalization\n",
        "git pull\n",
        "cd .."
      ],
      "execution_count": 3,
      "outputs": [
        {
          "output_type": "stream",
          "text": [
            "Already up to date.\n"
          ],
          "name": "stdout"
        }
      ]
    },
    {
      "cell_type": "code",
      "metadata": {
        "colab": {
          "base_uri": "https://localhost:8080/"
        },
        "id": "nJVkUqeYEOzr",
        "outputId": "c1a45396-3e63-4f1e-ac13-9ef3a2d792c8"
      },
      "source": [
        "from google.colab import drive\n",
        "drive.mount('/content/gdrive',force_remount=True)\n",
        "save_dir = \"/content/gdrive/My Drive/NLP/imarg\""
      ],
      "execution_count": 4,
      "outputs": [
        {
          "output_type": "stream",
          "text": [
            "Mounted at /content/gdrive\n"
          ],
          "name": "stdout"
        }
      ]
    },
    {
      "cell_type": "code",
      "metadata": {
        "id": "9L0IvYHhC7nT"
      },
      "source": [
        "%%capture\n",
        "import sys\n",
        "sys.path.append(\"input-marginalization\")\n",
        "\n",
        "from metrics import input_marginalization, colored_sentence\n",
        "import torch\n",
        "from transformers import BertForMaskedLM"
      ],
      "execution_count": 5,
      "outputs": []
    },
    {
      "cell_type": "code",
      "metadata": {
        "id": "HFI-HVQ5NEjn"
      },
      "source": [
        "%%capture\n",
        "mlm = BertForMaskedLM.from_pretrained('bert-base-uncased').cuda()"
      ],
      "execution_count": 6,
      "outputs": []
    },
    {
      "cell_type": "code",
      "metadata": {
        "id": "zfSUYngpEV1O"
      },
      "source": [
        "#bert = torch.load(f\"{save_dir}/bert_sst2.pt\")\n",
        "#cnn = torch.load(f\"{save_dir}/cnn_sst2.pt\")\n",
        "lstm = torch.load(f\"{save_dir}/lstm_snli.pt\")"
      ],
      "execution_count": 7,
      "outputs": []
    },
    {
      "cell_type": "code",
      "metadata": {
        "id": "I0_p0807DC1E"
      },
      "source": [
        "lstm_sentences = [\n",
        "  (\"pacino is brilliant as the sleep - deprived dormer , his increasing weariness as much existential as it is physical .\", 1),\n",
        "  (\"an important movie , a reminder of the power of file to move us and to make us examine our values .\", 1),\n",
        "  (\"unflinchingly bleak and desperate\", 0),\n",
        "  (\"i am sorry that i was unable to get the full brunt of this comedy .\", 0),\n",
        "]\n",
        "bert_sentences = [\n",
        "  (\"it ' s a lovely film with lovely performances by buy and accorsi .\", 1),\n",
        "  (\"more romantic , emotional and ultimately more satisfying than the teary - eyed original .\", 1),\n",
        "  (\"it ' s a bit disappointing that it only manages to be decent instead of dead brilliant .\", 0),\n",
        "  (\"suffers from the lack of a compelling or comprehensible narrative .\", 0),   \n",
        "]\n",
        "cnn_sentences = [\n",
        "  (\". . . very funny , very enjoyable . . .\", 1),\n",
        "  (\"lookin ' for sin , american - style ?\", 0),\n",
        "]\n",
        "\n",
        "snli_lstm_sentences = [\n",
        "  (('Two women are embracing while holding to go packages.', 'The sisters are hugging goodbye while holding to go packages after just eating lunch.'), 2),\n",
        "  (('bicyclists waiting at an intersection.', 'the bicyclists are dead.'), 0)\n",
        "]"
      ],
      "execution_count": 12,
      "outputs": []
    },
    {
      "cell_type": "code",
      "metadata": {
        "id": "pvP4wY_-EKBl",
        "colab": {
          "base_uri": "https://localhost:8080/",
          "height": 238
        },
        "outputId": "02c7d47e-f570-4692-d53c-90e7d9f53b93"
      },
      "source": [
        "for sentences, label in snli_lstm_sentences:\n",
        "  att_scores = input_marginalization(lstm, sentences, mlm, target_label=label, dataset='snli')\n",
        "  #print(att_scores)\n",
        "  colored_sentence(sentence, att_scores)"
      ],
      "execution_count": 14,
      "outputs": [
        {
          "output_type": "error",
          "ename": "NameError",
          "evalue": "ignored",
          "traceback": [
            "\u001b[0;31m---------------------------------------------------------------------------\u001b[0m",
            "\u001b[0;31mNameError\u001b[0m                                 Traceback (most recent call last)",
            "\u001b[0;32m<ipython-input-14-33efd5a94bfa>\u001b[0m in \u001b[0;36m<module>\u001b[0;34m()\u001b[0m\n\u001b[1;32m      2\u001b[0m   \u001b[0matt_scores\u001b[0m \u001b[0;34m=\u001b[0m \u001b[0minput_marginalization\u001b[0m\u001b[0;34m(\u001b[0m\u001b[0mlstm\u001b[0m\u001b[0;34m,\u001b[0m \u001b[0msentences\u001b[0m\u001b[0;34m,\u001b[0m \u001b[0mmlm\u001b[0m\u001b[0;34m,\u001b[0m \u001b[0mtarget_label\u001b[0m\u001b[0;34m=\u001b[0m\u001b[0mlabel\u001b[0m\u001b[0;34m,\u001b[0m \u001b[0mdataset\u001b[0m\u001b[0;34m=\u001b[0m\u001b[0;34m'snli'\u001b[0m\u001b[0;34m)\u001b[0m\u001b[0;34m\u001b[0m\u001b[0;34m\u001b[0m\u001b[0m\n\u001b[1;32m      3\u001b[0m   \u001b[0;31m#print(att_scores)\u001b[0m\u001b[0;34m\u001b[0m\u001b[0;34m\u001b[0m\u001b[0;34m\u001b[0m\u001b[0m\n\u001b[0;32m----> 4\u001b[0;31m   \u001b[0mcolored_sentence\u001b[0m\u001b[0;34m(\u001b[0m\u001b[0msentence\u001b[0m\u001b[0;34m,\u001b[0m \u001b[0matt_scores\u001b[0m\u001b[0;34m)\u001b[0m\u001b[0;34m\u001b[0m\u001b[0;34m\u001b[0m\u001b[0m\n\u001b[0m",
            "\u001b[0;31mNameError\u001b[0m: name 'sentence' is not defined"
          ]
        }
      ]
    },
    {
      "cell_type": "code",
      "metadata": {
        "id": "YSnP22dOHz4i"
      },
      "source": [
        "# try:\n",
        "#   for sentence, label in bert_sentences:\n",
        "#     att_scores = input_marginalization(bert, sentence, mlm, target_label=label)\n",
        "#     color_sentence(sentence, att_scores)\n",
        "# except KeyboardInterrupt:\n",
        "#   print(\"Graceful Exit\")"
      ],
      "execution_count": 10,
      "outputs": []
    },
    {
      "cell_type": "code",
      "metadata": {
        "id": "1-g77cGf9rrH"
      },
      "source": [
        "# for sentence, label in cnn_sentences:\n",
        "#   att_scores = input_marginalization(cnn, sentence, mlm, target_label=label)\n",
        "#   color_sentence(sentence, att_scores)"
      ],
      "execution_count": 11,
      "outputs": []
    },
    {
      "cell_type": "code",
      "metadata": {
        "id": "rSqAQrY4ST-Y"
      },
      "source": [
        ""
      ],
      "execution_count": 11,
      "outputs": []
    }
  ]
}