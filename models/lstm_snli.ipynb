{
 "cells": [
  {
   "cell_type": "markdown",
   "metadata": {
    "colab_type": "text",
    "id": "view-in-github"
   },
   "source": [
    "<a href=\"https://colab.research.google.com/github/ronakdm/input-marginalization/blob/main/lstm_snli.ipynb\" target=\"_parent\"><img src=\"https://colab.research.google.com/assets/colab-badge.svg\" alt=\"Open In Colab\"/></a>"
   ]
  },
  {
   "cell_type": "code",
   "execution_count": null,
   "metadata": {
    "colab": {
     "base_uri": "https://localhost:8080/"
    },
    "id": "n5UIHIwjbXUU",
    "outputId": "c1f97da8-aa31-4f8e-924f-eb45e53dc7f6"
   },
   "outputs": [],
   "source": [
    "!git clone https://github.com/ronakdm/input-marginalization.git"
   ]
  },
  {
   "cell_type": "code",
   "execution_count": 1,
   "metadata": {},
   "outputs": [],
   "source": [
    "%load_ext autoreload\n",
    "%autoreload 2"
   ]
  },
  {
   "cell_type": "code",
   "execution_count": null,
   "metadata": {
    "colab": {
     "base_uri": "https://localhost:8080/"
    },
    "id": "9_AXX1JWiVpH",
    "outputId": "6904ed9e-9e6b-44a4-b930-42396ef0a3d9"
   },
   "outputs": [],
   "source": [
    "%%bash\n",
    "cd input-marginalization\n",
    "git pull\n",
    "cd .."
   ]
  },
  {
   "cell_type": "code",
   "execution_count": null,
   "metadata": {
    "colab": {
     "base_uri": "https://localhost:8080/"
    },
    "id": "mdt1j3SUihdj",
    "outputId": "e2810d51-f3aa-4925-8dfb-51f8e3430eb4"
   },
   "outputs": [],
   "source": [
    "from google.colab import drive\n",
    "drive.mount('/content/gdrive')\n",
    "save_dir = \"/content/gdrive/My Drive/input-marginalization\""
   ]
  },
  {
   "cell_type": "code",
   "execution_count": 2,
   "metadata": {
    "id": "0ff8o_N7KjOa"
   },
   "outputs": [],
   "source": [
    "import pickle\n",
    "import numpy as np\n",
    "import time\n",
    "import datetime\n",
    "import random\n",
    "import torch\n",
    "import torch.nn as nn"
   ]
  },
  {
   "cell_type": "code",
   "execution_count": 3,
   "metadata": {
    "id": "quKITBFalxqo"
   },
   "outputs": [],
   "source": [
    "#import sys\n",
    "#sys.path.append(\"input-marginalization\")\n",
    "\n",
    "from utils import generate_snli_dataloader, train, test\n",
    "from models import SNLILSTM"
   ]
  },
  {
   "cell_type": "code",
   "execution_count": 4,
   "metadata": {
    "id": "0qxZMqGNKni8"
   },
   "outputs": [],
   "source": [
    "try:\n",
    "    from transformers import AdamW, BertConfig, get_linear_schedule_with_warmup, BertTokenizer\n",
    "except ModuleNotFoundError:\n",
    "    !pip install transformers\n",
    "    from transformers import AdamW, BertConfig, get_linear_schedule_with_warmup, BertTokenizer\n",
    "    "
   ]
  },
  {
   "cell_type": "code",
   "execution_count": 5,
   "metadata": {
    "colab": {
     "base_uri": "https://localhost:8080/"
    },
    "id": "tnpwoarJjKwR",
    "outputId": "bb8febd4-db7e-4aa9-9f5c-6c3a331f5f76"
   },
   "outputs": [
    {
     "name": "stdout",
     "output_type": "stream",
     "text": [
      "Running on 'cpu'.\n"
     ]
    }
   ],
   "source": [
    "LEARNING_RATE = 1e-4\n",
    "ADAMW_TOLERANCE = 1e-8\n",
    "BATCH_SIZE = 128\n",
    "EPOCHS = 30\n",
    "tokenizer = BertTokenizer.from_pretrained(\"bert-base-uncased\")\n",
    "VOCAB_SIZE = tokenizer.vocab_size\n",
    "LABEL_SIZE = 3\n",
    "HIDDEN_DIM = 200\n",
    "EMBEDDING_DIM = 100\n",
    "N_RNN_LAYERS = 2\n",
    "\n",
    "if torch.cuda.is_available():\n",
    "    device = \"cuda\"\n",
    "else:\n",
    "    device = \"cpu\"\n",
    "\n",
    "device='cpu'\n",
    "print(\"Running on '%s'.\" % device)"
   ]
  },
  {
   "cell_type": "code",
   "execution_count": 6,
   "metadata": {
    "colab": {
     "base_uri": "https://localhost:8080/"
    },
    "id": "WZElNobPHeTq",
    "outputId": "7bccfd51-bd1c-43a4-a649-aa25d8a21dc4"
   },
   "outputs": [],
   "source": [
    "pre = 'preprocessed_data/SNLI/snli_1.0/'\n",
    "train_dataloader, validation_dataloader, test_dataloader = generate_snli_dataloader(pre, BATCH_SIZE)"
   ]
  },
  {
   "cell_type": "code",
   "execution_count": 7,
   "metadata": {
    "id": "gH6eB7B-mCC6"
   },
   "outputs": [],
   "source": [
    "model = SNLILSTM(VOCAB_SIZE, EMBEDDING_DIM, HIDDEN_DIM, LABEL_SIZE, N_RNN_LAYERS).to(device)\n",
    "save_filename = \"lstm_snli\"\n",
    "optimizer = AdamW(model.parameters(), lr = LEARNING_RATE, eps = ADAMW_TOLERANCE)\n",
    "scheduler = get_linear_schedule_with_warmup(optimizer, num_warmup_steps = 0, num_training_steps = EPOCHS * BATCH_SIZE * len(train_dataloader))"
   ]
  },
  {
   "cell_type": "code",
   "execution_count": null,
   "metadata": {
    "colab": {
     "base_uri": "https://localhost:8080/"
    },
    "id": "J5XK8r6uyz5a",
    "outputId": "60b67105-1c5a-4f79-dcc8-9f8b20c0acc8"
   },
   "outputs": [],
   "source": [
    "save_dir='.'\n",
    "try:\n",
    "    train(model, EPOCHS, train_dataloader, validation_dataloader, optimizer, scheduler, save_dir, save_filename, device, dataset='snli')\n",
    "except KeyboardInterrupt:\n",
    "    print(\"Graceful Exit\")"
   ]
  },
  {
   "cell_type": "code",
   "execution_count": null,
   "metadata": {
    "id": "iEDOepJ8l-WD"
   },
   "outputs": [],
   "source": []
  }
 ],
 "metadata": {
  "accelerator": "GPU",
  "colab": {
   "include_colab_link": true,
   "name": "lstm-sst2.ipynb",
   "provenance": []
  },
  "kernelspec": {
   "display_name": "Python 3",
   "language": "python",
   "name": "python3"
  },
  "language_info": {
   "codemirror_mode": {
    "name": "ipython",
    "version": 3
   },
   "file_extension": ".py",
   "mimetype": "text/x-python",
   "name": "python",
   "nbconvert_exporter": "python",
   "pygments_lexer": "ipython3",
   "version": "3.7.3"
  }
 },
 "nbformat": 4,
 "nbformat_minor": 1
}
