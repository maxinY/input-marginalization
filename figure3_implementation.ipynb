{
  "nbformat": 4,
  "nbformat_minor": 0,
  "metadata": {
    "accelerator": "GPU",
    "colab": {
      "name": "figure3_implementation.ipynb",
      "provenance": []
    },
    "kernelspec": {
      "display_name": "Python 3",
      "name": "python3"
    }
  },
  "cells": [
    {
      "cell_type": "code",
      "metadata": {
        "colab": {
          "base_uri": "https://localhost:8080/"
        },
        "id": "2yV3xObBqoi4",
        "outputId": "d079499b-2e92-4dc5-8b94-06404e5c79a2"
      },
      "source": [
        "\r\n",
        "%%bash\r\n",
        "git clone https://github.com/ronakdm/input-marginalization.git\r\n",
        "cd input-marginalization\r\n",
        "git pull\r\n",
        "cd .."
      ],
      "execution_count": 1,
      "outputs": [
        {
          "output_type": "stream",
          "text": [
            "Already up to date.\n"
          ],
          "name": "stdout"
        },
        {
          "output_type": "stream",
          "text": [
            "Cloning into 'input-marginalization'...\n"
          ],
          "name": "stderr"
        }
      ]
    },
    {
      "cell_type": "code",
      "metadata": {
        "colab": {
          "base_uri": "https://localhost:8080/"
        },
        "id": "Ym6VzzO2rNqV",
        "outputId": "a61cf7ea-7b75-4e50-8857-9cc66f95b345"
      },
      "source": [
        "try:\r\n",
        "    from transformers import BertForSequenceClassification, AdamW, BertConfig, get_linear_schedule_with_warmup\r\n",
        "except ModuleNotFoundError:\r\n",
        "    !pip install transformers\r\n",
        "    from transformers import BertForSequenceClassification, AdamW, BertConfig, get_linear_schedule_with_warmup"
      ],
      "execution_count": 2,
      "outputs": [
        {
          "output_type": "stream",
          "text": [
            "Collecting transformers\n",
            "\u001b[?25l  Downloading https://files.pythonhosted.org/packages/f9/54/5ca07ec9569d2f232f3166de5457b63943882f7950ddfcc887732fc7fb23/transformers-4.3.3-py3-none-any.whl (1.9MB)\n",
            "\u001b[K     |████████████████████████████████| 1.9MB 7.7MB/s \n",
            "\u001b[?25hRequirement already satisfied: packaging in /usr/local/lib/python3.7/dist-packages (from transformers) (20.9)\n",
            "Requirement already satisfied: requests in /usr/local/lib/python3.7/dist-packages (from transformers) (2.23.0)\n",
            "Requirement already satisfied: regex!=2019.12.17 in /usr/local/lib/python3.7/dist-packages (from transformers) (2019.12.20)\n",
            "Collecting sacremoses\n",
            "\u001b[?25l  Downloading https://files.pythonhosted.org/packages/7d/34/09d19aff26edcc8eb2a01bed8e98f13a1537005d31e95233fd48216eed10/sacremoses-0.0.43.tar.gz (883kB)\n",
            "\u001b[K     |████████████████████████████████| 890kB 46.7MB/s \n",
            "\u001b[?25hRequirement already satisfied: tqdm>=4.27 in /usr/local/lib/python3.7/dist-packages (from transformers) (4.41.1)\n",
            "Collecting tokenizers<0.11,>=0.10.1\n",
            "\u001b[?25l  Downloading https://files.pythonhosted.org/packages/71/23/2ddc317b2121117bf34dd00f5b0de194158f2a44ee2bf5e47c7166878a97/tokenizers-0.10.1-cp37-cp37m-manylinux2010_x86_64.whl (3.2MB)\n",
            "\u001b[K     |████████████████████████████████| 3.2MB 53.4MB/s \n",
            "\u001b[?25hRequirement already satisfied: importlib-metadata; python_version < \"3.8\" in /usr/local/lib/python3.7/dist-packages (from transformers) (3.7.0)\n",
            "Requirement already satisfied: numpy>=1.17 in /usr/local/lib/python3.7/dist-packages (from transformers) (1.19.5)\n",
            "Requirement already satisfied: filelock in /usr/local/lib/python3.7/dist-packages (from transformers) (3.0.12)\n",
            "Requirement already satisfied: pyparsing>=2.0.2 in /usr/local/lib/python3.7/dist-packages (from packaging->transformers) (2.4.7)\n",
            "Requirement already satisfied: chardet<4,>=3.0.2 in /usr/local/lib/python3.7/dist-packages (from requests->transformers) (3.0.4)\n",
            "Requirement already satisfied: urllib3!=1.25.0,!=1.25.1,<1.26,>=1.21.1 in /usr/local/lib/python3.7/dist-packages (from requests->transformers) (1.24.3)\n",
            "Requirement already satisfied: idna<3,>=2.5 in /usr/local/lib/python3.7/dist-packages (from requests->transformers) (2.10)\n",
            "Requirement already satisfied: certifi>=2017.4.17 in /usr/local/lib/python3.7/dist-packages (from requests->transformers) (2020.12.5)\n",
            "Requirement already satisfied: six in /usr/local/lib/python3.7/dist-packages (from sacremoses->transformers) (1.15.0)\n",
            "Requirement already satisfied: click in /usr/local/lib/python3.7/dist-packages (from sacremoses->transformers) (7.1.2)\n",
            "Requirement already satisfied: joblib in /usr/local/lib/python3.7/dist-packages (from sacremoses->transformers) (1.0.1)\n",
            "Requirement already satisfied: typing-extensions>=3.6.4; python_version < \"3.8\" in /usr/local/lib/python3.7/dist-packages (from importlib-metadata; python_version < \"3.8\"->transformers) (3.7.4.3)\n",
            "Requirement already satisfied: zipp>=0.5 in /usr/local/lib/python3.7/dist-packages (from importlib-metadata; python_version < \"3.8\"->transformers) (3.4.1)\n",
            "Building wheels for collected packages: sacremoses\n",
            "  Building wheel for sacremoses (setup.py) ... \u001b[?25l\u001b[?25hdone\n",
            "  Created wheel for sacremoses: filename=sacremoses-0.0.43-cp37-none-any.whl size=893262 sha256=7c71af0613961d445b90c54061996d1ee498944ea8c51e02598c2dbe8e30f09f\n",
            "  Stored in directory: /root/.cache/pip/wheels/29/3c/fd/7ce5c3f0666dab31a50123635e6fb5e19ceb42ce38d4e58f45\n",
            "Successfully built sacremoses\n",
            "Installing collected packages: sacremoses, tokenizers, transformers\n",
            "Successfully installed sacremoses-0.0.43 tokenizers-0.10.1 transformers-4.3.3\n"
          ],
          "name": "stdout"
        }
      ]
    },
    {
      "cell_type": "code",
      "metadata": {
        "id": "jdhwMgLHr91E"
      },
      "source": [
        "import torch\r\n",
        "import sys\r\n",
        "path = (\"input-marginalization\")\r\n",
        "if path not in sys.path:\r\n",
        "    sys.path.insert(0, path)"
      ],
      "execution_count": 3,
      "outputs": []
    },
    {
      "cell_type": "code",
      "metadata": {
        "id": "8sNf3WNNq6oy"
      },
      "source": [
        "from metrics import zero_erasure, unk_erasure, color_sentence, encode, compute_log_odds, erasure\r\n",
        "from utils import generate_dataloaders, train, test,load_dataset\r\n"
      ],
      "execution_count": 5,
      "outputs": []
    },
    {
      "cell_type": "code",
      "metadata": {
        "colab": {
          "base_uri": "https://localhost:8080/"
        },
        "id": "7zIT5OX9nO93",
        "outputId": "a3c535c0-6fce-4d36-823f-ee0ea890dffb"
      },
      "source": [
        "BATCH_SIZE = 1\r\n",
        "if torch.cuda.is_available():\r\n",
        "    device = \"cuda\"\r\n",
        "else:\r\n",
        "    device = \"cpu\"\r\n",
        "\r\n",
        "print(\"Running on '%s'.\" % device)"
      ],
      "execution_count": 6,
      "outputs": [
        {
          "output_type": "stream",
          "text": [
            "Running on 'cuda'.\n"
          ],
          "name": "stdout"
        }
      ]
    },
    {
      "cell_type": "code",
      "metadata": {
        "colab": {
          "base_uri": "https://localhost:8080/"
        },
        "id": "c57qMIrjrAXR",
        "outputId": "f206f8cd-7dbb-463a-b0f3-710703a37843"
      },
      "source": [
        "from google.colab import drive\r\n",
        "drive.mount('/content/gdrive')\r\n",
        "save_dir = \"/content/gdrive/My Drive/input-marginalization\""
      ],
      "execution_count": 7,
      "outputs": [
        {
          "output_type": "stream",
          "text": [
            "Mounted at /content/gdrive\n"
          ],
          "name": "stdout"
        }
      ]
    },
    {
      "cell_type": "code",
      "metadata": {
        "colab": {
          "base_uri": "https://localhost:8080/"
        },
        "id": "7EEY3GDgnACm",
        "outputId": "71758740-d9fd-41a5-8fd3-244c5aba38c5"
      },
      "source": [
        "train_dataloader, validation_dataloader, test_dataloader = generate_dataloaders(BATCH_SIZE)"
      ],
      "execution_count": 8,
      "outputs": [
        {
          "output_type": "stream",
          "text": [
            "6,919 training samples.\n",
            "  876 validation samples.\n",
            "1,822 test samples.\n"
          ],
          "name": "stdout"
        }
      ]
    },
    {
      "cell_type": "code",
      "metadata": {
        "id": "LvMnIxJRre7l"
      },
      "source": [
        "cnn = torch.load(f\"{save_dir}/cnn_sst2.pt\")\r\n",
        "\r\n",
        "bert = torch.load(f\"{save_dir}/bert_sst2.pt\")\r\n",
        "\r\n",
        "lstm_sst2 = torch.load(f\"{save_dir}/lstm_sst2.pt\").to(device)\r\n"
      ],
      "execution_count": 30,
      "outputs": []
    },
    {
      "cell_type": "markdown",
      "metadata": {
        "id": "qO_8_SP61Vln"
      },
      "source": [
        ""
      ]
    },
    {
      "cell_type": "code",
      "metadata": {
        "colab": {
          "base_uri": "https://localhost:8080/"
        },
        "id": "EaZACrjbPtx2",
        "outputId": "0ea59d5f-1c4f-4d43-f661-fc692786d9bb"
      },
      "source": [
        "#make a subset of 700 test_dataset\r\n",
        "\r\n",
        "#generate 700 random numbers\r\n",
        "import random\r\n",
        "from torch.utils.data import DataLoader, RandomSampler, SequentialSampler, TensorDataset\r\n",
        "\r\n",
        "test_dataset = load_dataset(\"test\")\r\n",
        "randomlist = random.sample(range(len(test_dataset)), 700)\r\n",
        "\r\n",
        "test_subset = torch.utils.data.Subset(test_dataset, randomlist)\r\n",
        "test_subloader = DataLoader(\r\n",
        "        test_subset, sampler=RandomSampler(test_subset), batch_size=BATCH_SIZE\r\n",
        "    )\r\n",
        "print(\"{:>5,} test samples.\".format(len(test_subset)))"
      ],
      "execution_count": 10,
      "outputs": [
        {
          "output_type": "stream",
          "text": [
            "  700 test samples.\n"
          ],
          "name": "stdout"
        }
      ]
    },
    {
      "cell_type": "code",
      "metadata": {
        "id": "Xez2s7N1kUS3"
      },
      "source": [
        "sentences = [\r\n",
        "  \"a good piece of work more often than not .\",\r\n",
        "  \"it ' s also , clearly , great fun .\",\r\n",
        "  \"the best film about baseball to hit theaters since field of dreams .\",\r\n",
        "  \"it ' s a bit disappointing that it only manages to be decent instead of dead brilliant .\"\r\n",
        "]\r\n"
      ],
      "execution_count": 11,
      "outputs": []
    },
    {
      "cell_type": "code",
      "metadata": {
        "colab": {
          "base_uri": "https://localhost:8080/"
        },
        "id": "gvxdBGnakLWJ",
        "outputId": "59ed322b-701d-4a25-edb4-23d49639b1ec"
      },
      "source": [
        "for sentence in sentences:\r\n",
        "    \r\n",
        "    print(sentence)\r\n",
        "    #CNN + Zero\r\n",
        "    #color_sentence(cnn, sentence, zero_erasure)\r\n",
        "    #CNN + UNK\r\n",
        "  #  color_sentence(cnn, sentence, unk_erasure)\r\n",
        "     #BERT + Zero\r\n",
        "    color_sentence(bert, sentence, zero_erasure)\r\n",
        "     #BERT + UNK\r\n",
        "  #  color_sentence(bert, sentence, unk_erasure)"
      ],
      "execution_count": 12,
      "outputs": [
        {
          "output_type": "stream",
          "text": [
            "a good piece of work more often than not .\n",
            "a \u001b[48;2;225;0;0mgood\u001b[0m piece of work more often \u001b[48;2;150;0;0mthan\u001b[0m not \u001b[48;2;0;150;225m.\u001b[0m\n",
            "it ' s also , clearly , great fun .\n",
            "\u001b[48;2;180;240;255mit\u001b[0m ' s \u001b[48;2;0;150;225malso\u001b[0m \u001b[48;2;0;50;180m,\u001b[0m \u001b[48;2;0;50;180mclearly\u001b[0m \u001b[48;2;0;150;225m,\u001b[0m great \u001b[48;2;0;50;180mfun\u001b[0m .\n",
            "the best film about baseball to hit theaters since field of dreams .\n",
            "\u001b[48;2;255;160;100mthe\u001b[0m \u001b[48;2;150;0;0mbest\u001b[0m \u001b[48;2;0;50;180mfilm\u001b[0m about \u001b[48;2;0;50;180mbaseball\u001b[0m \u001b[48;2;0;50;180mto\u001b[0m \u001b[48;2;0;50;180mhit\u001b[0m \u001b[48;2;180;240;255mtheaters\u001b[0m \u001b[48;2;0;50;180msince\u001b[0m field of dreams \u001b[48;2;0;150;225m.\u001b[0m\n",
            "it ' s a bit disappointing that it only manages to be decent instead of dead brilliant .\n",
            "it ' s a bit \u001b[48;2;225;0;0mdisappointing\u001b[0m \u001b[48;2;255;160;100mthat\u001b[0m \u001b[48;2;0;150;225mit\u001b[0m only \u001b[48;2;180;240;255mmanages\u001b[0m to be decent instead \u001b[48;2;0;50;180mof\u001b[0m \u001b[48;2;0;150;225mdead\u001b[0m \u001b[48;2;0;50;180mbrilliant\u001b[0m .\n"
          ],
          "name": "stdout"
        }
      ]
    },
    {
      "cell_type": "code",
      "metadata": {
        "id": "8fPzq_eFn--9"
      },
      "source": [
        "from transformers import BertTokenizer\r\n",
        "tokenizer = BertTokenizer.from_pretrained(\"bert-base-uncased\")"
      ],
      "execution_count": 14,
      "outputs": []
    },
    {
      "cell_type": "markdown",
      "metadata": {
        "id": "JAsOpmDwxZ4z"
      },
      "source": [
        "**preparation for ploting input-marginalization AUC**"
      ]
    },
    {
      "cell_type": "code",
      "metadata": {
        "id": "tTYLOAo2xU06"
      },
      "source": [
        "def compute_probability(model, input_ids, attention_masks, label):\r\n",
        "    logits = model(\r\n",
        "        input_ids, token_type_ids=None, attention_mask=attention_masks, labels=label.repeat((len(input_ids))),\r\n",
        "    ).logits\r\n",
        "    \r\n",
        "    return math.exp(logits[0][label])"
      ],
      "execution_count": 15,
      "outputs": []
    },
    {
      "cell_type": "code",
      "metadata": {
        "id": "c0ypsio6xgGU"
      },
      "source": [
        "def compute_probability2(model, input_ids, attention_masks, label):\r\n",
        "  \r\n",
        "    logits = model(\r\n",
        "        input_ids.to(torch.int64), token_type_ids=None, attention_mask=attention_masks, labels=label.repeat((len(input_ids))),\r\n",
        "    ).logits\r\n",
        "\r\n",
        "    return torch.exp(torch.reshape(logits[:, label], (-1,)))"
      ],
      "execution_count": 16,
      "outputs": []
    },
    {
      "cell_type": "code",
      "metadata": {
        "colab": {
          "base_uri": "https://localhost:8080/"
        },
        "id": "JR_XIMwM0IkL",
        "outputId": "6131f0e3-e89e-4519-fde3-934955f36ccd"
      },
      "source": [
        "!pip install pytorch_pretrained_bert"
      ],
      "execution_count": 17,
      "outputs": [
        {
          "output_type": "stream",
          "text": [
            "Collecting pytorch_pretrained_bert\n",
            "\u001b[?25l  Downloading https://files.pythonhosted.org/packages/d7/e0/c08d5553b89973d9a240605b9c12404bcf8227590de62bae27acbcfe076b/pytorch_pretrained_bert-0.6.2-py3-none-any.whl (123kB)\n",
            "\r\u001b[K     |██▋                             | 10kB 22.9MB/s eta 0:00:01\r\u001b[K     |█████▎                          | 20kB 16.4MB/s eta 0:00:01\r\u001b[K     |████████                        | 30kB 13.9MB/s eta 0:00:01\r\u001b[K     |██████████▋                     | 40kB 12.8MB/s eta 0:00:01\r\u001b[K     |█████████████▎                  | 51kB 8.6MB/s eta 0:00:01\r\u001b[K     |███████████████▉                | 61kB 9.2MB/s eta 0:00:01\r\u001b[K     |██████████████████▌             | 71kB 9.1MB/s eta 0:00:01\r\u001b[K     |█████████████████████▏          | 81kB 10.0MB/s eta 0:00:01\r\u001b[K     |███████████████████████▉        | 92kB 9.6MB/s eta 0:00:01\r\u001b[K     |██████████████████████████▌     | 102kB 8.3MB/s eta 0:00:01\r\u001b[K     |█████████████████████████████▏  | 112kB 8.3MB/s eta 0:00:01\r\u001b[K     |███████████████████████████████▊| 122kB 8.3MB/s eta 0:00:01\r\u001b[K     |████████████████████████████████| 133kB 8.3MB/s \n",
            "\u001b[?25hRequirement already satisfied: requests in /usr/local/lib/python3.7/dist-packages (from pytorch_pretrained_bert) (2.23.0)\n",
            "Collecting boto3\n",
            "\u001b[?25l  Downloading https://files.pythonhosted.org/packages/a2/2e/c867b1794dab90a7131d0d294cdad9c218aa9cadfac1a330106280458aaf/boto3-1.17.26-py2.py3-none-any.whl (130kB)\n",
            "\u001b[K     |████████████████████████████████| 133kB 32.5MB/s \n",
            "\u001b[?25hRequirement already satisfied: numpy in /usr/local/lib/python3.7/dist-packages (from pytorch_pretrained_bert) (1.19.5)\n",
            "Requirement already satisfied: tqdm in /usr/local/lib/python3.7/dist-packages (from pytorch_pretrained_bert) (4.41.1)\n",
            "Requirement already satisfied: regex in /usr/local/lib/python3.7/dist-packages (from pytorch_pretrained_bert) (2019.12.20)\n",
            "Requirement already satisfied: torch>=0.4.1 in /usr/local/lib/python3.7/dist-packages (from pytorch_pretrained_bert) (1.8.0+cu101)\n",
            "Requirement already satisfied: chardet<4,>=3.0.2 in /usr/local/lib/python3.7/dist-packages (from requests->pytorch_pretrained_bert) (3.0.4)\n",
            "Requirement already satisfied: idna<3,>=2.5 in /usr/local/lib/python3.7/dist-packages (from requests->pytorch_pretrained_bert) (2.10)\n",
            "Requirement already satisfied: certifi>=2017.4.17 in /usr/local/lib/python3.7/dist-packages (from requests->pytorch_pretrained_bert) (2020.12.5)\n",
            "Requirement already satisfied: urllib3!=1.25.0,!=1.25.1,<1.26,>=1.21.1 in /usr/local/lib/python3.7/dist-packages (from requests->pytorch_pretrained_bert) (1.24.3)\n",
            "Collecting s3transfer<0.4.0,>=0.3.0\n",
            "\u001b[?25l  Downloading https://files.pythonhosted.org/packages/ea/43/4b4a1b26eb03a429a4c37ca7fdf369d938bd60018fc194e94b8379b0c77c/s3transfer-0.3.4-py2.py3-none-any.whl (69kB)\n",
            "\u001b[K     |████████████████████████████████| 71kB 6.7MB/s \n",
            "\u001b[?25hCollecting botocore<1.21.0,>=1.20.26\n",
            "\u001b[?25l  Downloading https://files.pythonhosted.org/packages/09/e9/3f85aac6fcf346a12b59e7f946aa23a732c0689a39c9a658dd3dc91c3ea6/botocore-1.20.26.tar.gz (7.5MB)\n",
            "\u001b[K     |████████████████████████████████| 7.5MB 20.7MB/s \n",
            "\u001b[?25hCollecting jmespath<1.0.0,>=0.7.1\n",
            "  Downloading https://files.pythonhosted.org/packages/07/cb/5f001272b6faeb23c1c9e0acc04d48eaaf5c862c17709d20e3469c6e0139/jmespath-0.10.0-py2.py3-none-any.whl\n",
            "Requirement already satisfied: typing-extensions in /usr/local/lib/python3.7/dist-packages (from torch>=0.4.1->pytorch_pretrained_bert) (3.7.4.3)\n",
            "Requirement already satisfied: python-dateutil<3.0.0,>=2.1 in /usr/local/lib/python3.7/dist-packages (from botocore<1.21.0,>=1.20.26->boto3->pytorch_pretrained_bert) (2.8.1)\n",
            "Requirement already satisfied: six>=1.5 in /usr/local/lib/python3.7/dist-packages (from python-dateutil<3.0.0,>=2.1->botocore<1.21.0,>=1.20.26->boto3->pytorch_pretrained_bert) (1.15.0)\n",
            "Building wheels for collected packages: botocore\n",
            "  Building wheel for botocore (setup.py) ... \u001b[?25l\u001b[?25hdone\n",
            "  Created wheel for botocore: filename=botocore-1.20.26-py2.py3-none-any.whl size=7287490 sha256=2a03d8cdab318767b7b1f02baf6c4d8224f6d39a0c3717b08ef73b5d9a29b630\n",
            "  Stored in directory: /root/.cache/pip/wheels/23/ce/e3/353e05a3af3a797ccb32abab6272d9f1cd7f06b2bca4fd0e1d\n",
            "Successfully built botocore\n",
            "\u001b[31mERROR: botocore 1.20.26 has requirement urllib3<1.27,>=1.25.4, but you'll have urllib3 1.24.3 which is incompatible.\u001b[0m\n",
            "Installing collected packages: jmespath, botocore, s3transfer, boto3, pytorch-pretrained-bert\n",
            "Successfully installed boto3-1.17.26 botocore-1.20.26 jmespath-0.10.0 pytorch-pretrained-bert-0.6.2 s3transfer-0.3.4\n"
          ],
          "name": "stdout"
        }
      ]
    },
    {
      "cell_type": "code",
      "metadata": {
        "colab": {
          "base_uri": "https://localhost:8080/"
        },
        "id": "x3rRaCMIz-aY",
        "outputId": "0fe48301-7936-412c-dbf1-c67735b139fa"
      },
      "source": [
        "from pytorch_pretrained_bert import BertTokenizer, BertModel, BertForMaskedLM\r\n",
        "bert_model = BertForMaskedLM.from_pretrained('bert-base-uncased')"
      ],
      "execution_count": 18,
      "outputs": [
        {
          "output_type": "stream",
          "text": [
            "100%|██████████| 407873900/407873900 [00:10<00:00, 40238875.26B/s]\n"
          ],
          "name": "stderr"
        }
      ]
    },
    {
      "cell_type": "code",
      "metadata": {
        "id": "30AULhpvxsLb"
      },
      "source": [
        "import torch.nn.functional as F\r\n",
        "def calculate_woe(model, input_ids, attention_masks, label, sigma):\r\n",
        "  device = \"cuda\" if next(model.parameters()).is_cuda else \"cpu\"\r\n",
        "  bert_model.to(device)\r\n",
        "  \r\n",
        "  #predictions is the probability distribution of each word in the vocabulary for each word in input sentence\r\n",
        "  predictions = bert_model(input_ids)\r\n",
        "  \r\n",
        "  predictions = torch.squeeze(predictions)\r\n",
        "  predictions = F.softmax(predictions, dim=1)\r\n",
        "\r\n",
        "  #woe is the weight of evidence\r\n",
        "  woe = []\r\n",
        "  model.eval()\r\n",
        "  \r\n",
        "  with torch.no_grad():\r\n",
        "    \r\n",
        "    for j in range (len(predictions)):\r\n",
        "      word_scores = predictions[j]\r\n",
        "      input_batch = input_ids.clone().to(device)\r\n",
        "      \r\n",
        "      #word_scores_batch calculates the value of the MLM of Bert for each masked word\r\n",
        "      #we put 0 for the first input which is unmasked\r\n",
        "      word_scores_batch = [0]\r\n",
        "      \r\n",
        "      for k in range(len(word_scores)):\r\n",
        "        if word_scores[k] > sigma:\r\n",
        "           input_batch = torch.cat((input_batch, input_ids), 0)\r\n",
        "           input_batch[len(input_batch)-1][j] = k\r\n",
        "           word_scores_batch.append(word_scores[k].item())\r\n",
        "      \r\n",
        "      #probability_input calculates the p(label|sentence) of the target model given each masked input sentence\r\n",
        "      \r\n",
        "      \r\n",
        "      probability_input = compute_probability2(model, input_batch, attention_masks, label)\r\n",
        "      \r\n",
        "      \r\n",
        "      m = torch.dot(torch.tensor(word_scores_batch).to(device), probability_input)\r\n",
        "      logodds_input = math.log(probability_input[0] / (1-probability_input[0]))\r\n",
        "      logodds_m = math.log(m / (1-m))\r\n",
        "      woe.append(logodds_input-logodds_m)\r\n",
        "  \r\n",
        "  return woe"
      ],
      "execution_count": 19,
      "outputs": []
    },
    {
      "cell_type": "code",
      "metadata": {
        "id": "SPCmsvCXx5PU"
      },
      "source": [
        "from torch.nn import LogSoftmax"
      ],
      "execution_count": 20,
      "outputs": []
    },
    {
      "cell_type": "code",
      "metadata": {
        "id": "vdboBZEoxynS"
      },
      "source": [
        "SAMPLE_SIZE = 3\r\n",
        "SIGMA = 1e-4\r\n",
        "log_softmax = LogSoftmax(dim=0)"
      ],
      "execution_count": 21,
      "outputs": []
    },
    {
      "cell_type": "code",
      "metadata": {
        "id": "3ycFlaYzBJiY"
      },
      "source": [
        "from utils import generate_dataloaders\r\n",
        "def loaddata ():\r\n",
        "  train_dataloader, validation_dataloader, test_dataloader = generate_dataloaders(1)\r\n",
        "  return test_dataloader"
      ],
      "execution_count": 22,
      "outputs": []
    },
    {
      "cell_type": "code",
      "metadata": {
        "id": "E8bUEnq7xula"
      },
      "source": [
        "def input_marg(model): \r\n",
        "  #test_data = test_subloader\r\n",
        "  #device = \"cuda\" if next(model.parameters()).is_cuda else \"cpu\"\r\n",
        "  #iter_data = iter(test_data)\r\n",
        "\r\n",
        "  #for i in range(SAMPLE_SIZE):\r\n",
        "  for idx,batch in enumerate(test_subloader,0):\r\n",
        "    #nextsample = next(iter_data)\r\n",
        "    nextsample = batch\r\n",
        "    inputsequences = nextsample[0].to(device)\r\n",
        "    inputmask =  nextsample[1].to(device)\r\n",
        "    labels = nextsample[2].to(device)\r\n",
        "    \r\n",
        "    #print(calculate_woe(model, torch.unsqueeze(inputsequences[0][1:11],0),torch.unsqueeze(inputmask[0][:11],0),  torch.unsqueeze(labels[0],0), SIGMA))\r\n",
        "    #print(torch.unsqueeze(inputsequences[0][1:11],0))\r\n",
        "    print(sum(calculate_woe(model, torch.unsqueeze(inputsequences[0][1:11],0),torch.unsqueeze(inputmask[0][:11],0),  torch.unsqueeze(labels[0],0), SIGMA)))\r\n",
        "    print(\"finish\")"
      ],
      "execution_count": 23,
      "outputs": []
    },
    {
      "cell_type": "code",
      "metadata": {
        "id": "R8YPxx3v5OX9"
      },
      "source": [
        "from termcolor import colored\r\n",
        "import numpy as np\r\n",
        "import math\r\n",
        "def AUC_store(model):\r\n",
        "    #create 2d numpy array to store probability for predicted class\r\n",
        "    zero_p = np.zeros((700,14))\r\n",
        "    mag_p = np.zeros((700,14))\r\n",
        "    unk_p = np.zeros((700,14))\r\n",
        "    for idx,batch in enumerate(test_subloader,0):\r\n",
        "        tokens = tokenizer.convert_ids_to_tokens(batch[0][0])\r\n",
        "        sentence = (tokenizer.convert_tokens_to_string(tokens))\r\n",
        "        b_input_ids = batch[0].to(device)\r\n",
        "        b_input_mask = batch[1].to(device)\r\n",
        "        b_labels = batch[2].to(device)\r\n",
        "        label_ids = b_labels.to('cpu').numpy()  \r\n",
        "        \r\n",
        "        label = label_ids.flatten() \r\n",
        "        update_sentence = []\r\n",
        "        #remove extra padding and start end token\r\n",
        "        for i in sentence.split():\r\n",
        "            if i != '[CLS]' and i != '[SEP]' and i != '[PAD]':           \r\n",
        "                update_sentence.append(i)\r\n",
        "        #convert list to string\r\n",
        "        sentence_string = ' '.join([str(elem) for elem in update_sentence]) \r\n",
        "        \r\n",
        "        #sort them in the order of importance   \r\n",
        "        zero_bert,indicies = torch.sort((zero_erasure(model, sentence_string)[0][1:-1]),descending=True)  \r\n",
        "        unk_bert, ind_b = torch.sort((unk_erasure(model, sentence_string)[0][1:-1]),descending=True)\r\n",
        "        \r\n",
        "        #print(sum(calculate_woe(model, torch.unsqueeze(b_input_ids[0][1:11],0),torch.unsqueeze(b_input_mask[0][:11],0),  torch.unsqueeze(b_labels[0],0), SIGMA)))\r\n",
        "        woe = calculate_woe(model, torch.unsqueeze(b_input_ids[0][1:11],0),torch.unsqueeze(b_input_mask[0][:11],0),torch.unsqueeze(b_labels[0],0), SIGMA)\r\n",
        "        \r\n",
        "        ind_m = [i[0] for i in sorted(enumerate(woe), key=lambda x:x[1],reverse=True)]\r\n",
        "\r\n",
        "        max_erase = int(len(sentence_string.split())*0.2)\r\n",
        "        #get prediction probability without any erasure\r\n",
        "        output = model(b_input_ids, token_type_ids=None, attention_mask=b_input_mask, labels=b_labels)\r\n",
        "        logits = output.logits.detach().cpu().numpy() \r\n",
        "        zero_p[idx,0] = (math.exp(logits[0][b_labels])/(math.exp(logits[0][1-b_labels])+math.exp(logits[0][b_labels])))\r\n",
        "        unk_p[idx,0] = zero_p[idx,0]\r\n",
        "        mag_p[idx,0] = zero_p[idx,0]\r\n",
        "        \r\n",
        "        #zero-padding\r\n",
        "        for j,i in enumerate(indicies,1):\r\n",
        "            if j >= max_erase:\r\n",
        "                break\r\n",
        "            #remove the index i and make new prediction, calculate the accuracy on all 700 sentence\r\n",
        "            \r\n",
        "            tokens[i+1] = '[PAD]'\r\n",
        "            \r\n",
        "            x = (tokenizer.convert_tokens_to_ids(tokens))\r\n",
        "            x = torch.tensor(x).to(device)\r\n",
        "            x = x.unsqueeze(0)\r\n",
        "            \r\n",
        "            output = model(x, token_type_ids=None, attention_mask=b_input_mask, labels=b_labels)\r\n",
        "            logits = output.logits.detach().cpu().numpy() \r\n",
        "            \r\n",
        "            zero_p[idx,j] = (math.exp(logits[0][b_labels])/(math.exp(logits[0][1-b_labels])+math.exp(logits[0][b_labels])))\r\n",
        "        \r\n",
        "        #unk padding\r\n",
        "        \r\n",
        "        for j,i in enumerate(ind_b,1):\r\n",
        "\r\n",
        "            if j >= max_erase:\r\n",
        "                break\r\n",
        "            #remove the index i and make new prediction, calculate the accuracy on all 700 sentence\r\n",
        "            \r\n",
        "            tokens[i+1] = '[PAD]'\r\n",
        "            \r\n",
        "            x = (tokenizer.convert_tokens_to_ids(tokens))\r\n",
        "            x = torch.tensor(x).to(device)\r\n",
        "            x = x.unsqueeze(0)\r\n",
        "            \r\n",
        "            output = model(x, token_type_ids=None, attention_mask=b_input_mask, labels=b_labels)\r\n",
        "            logits = output.logits.detach().cpu().numpy() \r\n",
        "            \r\n",
        "            unk_p[idx,j] = (math.exp(logits[0][b_labels])/(math.exp(logits[0][1-b_labels])+math.exp(logits[0][b_labels])))\r\n",
        "        \r\n",
        "        #input_marginalization\r\n",
        "        for j,i in enumerate(ind_m,1):\r\n",
        "\r\n",
        "            if j >= max_erase:\r\n",
        "                break\r\n",
        "            #remove the index i and make new prediction, calculate the accuracy on all 700 sentence\r\n",
        "            \r\n",
        "            tokens[i+1] = '[PAD]'\r\n",
        "            \r\n",
        "            x = (tokenizer.convert_tokens_to_ids(tokens))\r\n",
        "            x = torch.tensor(x).to(device)\r\n",
        "            x = x.unsqueeze(0)\r\n",
        "            \r\n",
        "            output = model(x, token_type_ids=None, attention_mask=b_input_mask, labels=b_labels)\r\n",
        "            logits = output.logits.detach().cpu().numpy() \r\n",
        "            \r\n",
        "            mag_p[idx,j] = (math.exp(logits[0][b_labels])/(math.exp(logits[0][1-b_labels])+math.exp(logits[0][b_labels])))\r\n",
        "    return  zero_p,unk_p,mag_p "
      ],
      "execution_count": 24,
      "outputs": []
    },
    {
      "cell_type": "code",
      "metadata": {
        "colab": {
          "base_uri": "https://localhost:8080/",
          "height": 295
        },
        "id": "mnhrdk6K8AUd",
        "outputId": "e49a0683-e1c9-404b-dfab-bcb6b9c69b8e"
      },
      "source": [
        "import matplotlib.pyplot as plt \r\n",
        "zero_p,unk_p,mag_p = AUC_store(cnn)\r\n",
        "#get the average probability of a class on the 700 sentence\r\n",
        "avg_zero = zero_p.mean(0) \r\n",
        "avg_unk = unk_p.mean(0)\r\n",
        "avg_mag = mag_p.mean(0)\r\n",
        "x = range(5)\r\n",
        "  \r\n",
        "# plotting the points  \r\n",
        "plt.plot(x, avg_zero[:5]) \r\n",
        "plt.plot(x,avg_unk[:5])\r\n",
        "plt.plot(x,avg_mag[:5]) \r\n",
        "# naming the x axis \r\n",
        "plt.xlabel('x - number of erased tokens') \r\n",
        "# naming the y axis \r\n",
        "plt.ylabel('y - prediction probability') \r\n",
        "  \r\n",
        "# giving a title to my graph \r\n",
        "plt.title('AUC on cnn') \r\n",
        "plt.legend(['Zero-pad','unk-pad','input-marginalization']) \r\n",
        "# function to show the plot \r\n",
        "plt.show() "
      ],
      "execution_count": 25,
      "outputs": [
        {
          "output_type": "display_data",
          "data": {
            "image/png": "[encoded data removed]",
            "text/plain": [
              "<Figure size 432x288 with 1 Axes>"
            ]
          },
          "metadata": {
            "tags": [],
            "needs_background": "light"
          }
        }
      ]
    },
    {
      "cell_type": "code",
      "metadata": {
        "colab": {
          "base_uri": "https://localhost:8080/"
        },
        "id": "nWozpTbhAM2x",
        "outputId": "96d1084d-36a2-4cb5-fb1a-4cb5da663ca1"
      },
      "source": [
        "print(avg_zero[:4].mean())\r\n",
        "print(avg_unk[:4].mean())\r\n",
        "print(avg_mag[:4].mean())"
      ],
      "execution_count": 54,
      "outputs": [
        {
          "output_type": "stream",
          "text": [
            "0.4847237728500592\n",
            "0.43350271244064753\n",
            "0.40241937978107195\n"
          ],
          "name": "stdout"
        }
      ]
    },
    {
      "cell_type": "code",
      "metadata": {
        "id": "6g8BFgfzxBcS"
      },
      "source": [
        "import matplotlib.pyplot as plt \r\n",
        "zero_p,unk_p,mag_p = AUC_store(lstm_sst2)"
      ],
      "execution_count": null,
      "outputs": []
    },
    {
      "cell_type": "code",
      "metadata": {
        "colab": {
          "base_uri": "https://localhost:8080/",
          "height": 295
        },
        "id": "8L_9vKJt5Gd_",
        "outputId": "883d2b90-448e-4ce4-df4a-9793f724f2bb"
      },
      "source": [
        "\r\n",
        "#get the average probability of a class on the 700 sentence\r\n",
        "avg_zero = zero_p.mean(0) \r\n",
        "avg_unk = unk_p.mean(0)\r\n",
        "avg_mag = mag_p.mean(0)\r\n",
        "x = range(5)\r\n",
        "  \r\n",
        "# plotting the points  \r\n",
        "plt.plot(x, avg_zero[:5]) \r\n",
        "plt.plot(x,avg_unk[:5])\r\n",
        "plt.plot(x,avg_mag[:5]) \r\n",
        "# naming the x axis \r\n",
        "plt.xlabel('x - number of erased tokens') \r\n",
        "# naming the y axis \r\n",
        "plt.ylabel('y - prediction probability') \r\n",
        "  \r\n",
        "# giving a title to my graph \r\n",
        "plt.title('AUC on lstm') \r\n",
        "plt.legend(['Zero-pad','unk-pad','input-marginalization']) \r\n",
        "# function to show the plot \r\n",
        "plt.show() "
      ],
      "execution_count": 32,
      "outputs": [
        {
          "output_type": "display_data",
          "data": {
            "image/png": "[encoded data removed]",
            "text/plain": [
              "<Figure size 432x288 with 1 Axes>"
            ]
          },
          "metadata": {
            "tags": [],
            "needs_background": "light"
          }
        }
      ]
    },
    {
      "cell_type": "code",
      "metadata": {
        "id": "MrhqGS_5xMuI",
        "outputId": "b32c54f7-bec2-40df-f536-e7b6b193fe8d",
        "colab": {
          "base_uri": "https://localhost:8080/"
        }
      },
      "source": [
        "print(avg_zero[:4].mean())\r\n",
        "print(avg_unk[:4].mean())\r\n",
        "print(avg_mag[:4].mean())"
      ],
      "execution_count": 33,
      "outputs": [
        {
          "output_type": "stream",
          "text": [
            "0.5155164487705768\n",
            "0.45096759720891366\n",
            "0.4087063311809281\n"
          ],
          "name": "stdout"
        }
      ]
    }
  ]
}